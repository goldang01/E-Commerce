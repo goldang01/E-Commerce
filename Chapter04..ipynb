{
 "cells": [
  {
   "cell_type": "markdown",
   "id": "15fa2005",
   "metadata": {},
   "source": [
    "<center>\n",
    "<img src=\"https://benefits.fastfive.co.kr/wp-content/uploads/2017/12/logo_%ED%8C%A8%EC%8A%A4%ED%8A%B8%EC%BA%A0%ED%8D%BC%EC%8A%A4-600x500.png\" width=\"300\" height=\"300\"><br>\n",
    "</center>\n",
    "\n",
    "파이썬을 활용한 이커머스 데이터분석_강의를 듣고 따라했던 코딩과 요점을 정리하였다.\n",
    " - 출처: [fast campus](https://fastcampus.co.kr/?gclid=CjwKCAjwqvyFBhB7EiwAER786a4FhRzvL9JiiOOTS5TL22ZuXVUKWvF6wWni06h-6fIZ5tp1j0J5phoCoHMQAvD_BwE)\n",
    "\n",
    "\n",
    "\n",
    "\n",
    "# Chapter04. \n",
    "\n",
    "## 분석의 목적\n",
    "\n",
    "Logistic Regression 은 Linear Regression을 기반으로 만들어진 모델인데, 차이점이 있다면 \n",
    "\n",
    "- Linear Regression 은 (연간 지출액 등..) 연속된 숫자의 어딘가를 예측하는 알고리즘\n",
    "- Logistic Regression 은 Yes or No 두가지 중 어디에 속하는지, 이진분류를예측하는 머신러닝 알고리즘이다. \n",
    "\n",
    "우리가 다를 데이터는 광고관련 데이터이며, y 값은 이 광고를 클릭을 했는지 안했는지 / input 데이터는 성별,나이 등등을 이용할 것이다."
   ]
  },
  {
   "cell_type": "code",
   "execution_count": null,
   "id": "9e769c12",
   "metadata": {},
   "outputs": [],
   "source": []
  }
 ],
 "metadata": {
  "kernelspec": {
   "display_name": "Python 3",
   "language": "python",
   "name": "python3"
  },
  "language_info": {
   "codemirror_mode": {
    "name": "ipython",
    "version": 3
   },
   "file_extension": ".py",
   "mimetype": "text/x-python",
   "name": "python",
   "nbconvert_exporter": "python",
   "pygments_lexer": "ipython3",
   "version": "3.6.9"
  }
 },
 "nbformat": 4,
 "nbformat_minor": 5
}
