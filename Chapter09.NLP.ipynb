{
 "cells": [
  {
   "cell_type": "markdown",
   "id": "76af19dc",
   "metadata": {},
   "source": [
    "<center>\n",
    "<img src=\"https://benefits.fastfive.co.kr/wp-content/uploads/2017/12/logo_%ED%8C%A8%EC%8A%A4%ED%8A%B8%EC%BA%A0%ED%8D%BC%EC%8A%A4-600x500.png\" width=\"300\" height=\"300\"><br>\n",
    "</center>\n",
    "\n",
    "파이썬을 활용한 이커머스 데이터분석_강의를 듣고 따라했던 코딩과 요점을 정리하였다.\n",
    " - 출처: [fast campus](https://fastcampus.co.kr/?gclid=CjwKCAjwqvyFBhB7EiwAER786a4FhRzvL9JiiOOTS5TL22ZuXVUKWvF6wWni06h-6fIZ5tp1j0J5phoCoHMQAvD_BwE)\n",
    "\n",
    "\n",
    "\n",
    "\n",
    "# Chapter.09 상품 리뷰 분석 (NLP)\n",
    "\n",
    "## 분석의 목적\n",
    "\n",
    "\n",
    "- Word Cloud를 통해 중요 단어 확인\n",
    "- Naive Bayses 모델을 통해 리뷰의 별점 예측\n",
    "- Data: Yelp Review"
   ]
  },
  {
   "cell_type": "code",
   "execution_count": 1,
   "id": "884e9f0a",
   "metadata": {},
   "outputs": [],
   "source": [
    "#!pip3 install nltk"
   ]
  },
  {
   "cell_type": "code",
   "execution_count": 2,
   "id": "2ca2806f",
   "metadata": {},
   "outputs": [],
   "source": [
    "import pandas as pd\n",
    "import numpy as np\n",
    "import matplotlib.pyplot as plt\n",
    "import seaborn as sns"
   ]
  },
  {
   "cell_type": "code",
   "execution_count": 3,
   "id": "c3f087e4",
   "metadata": {},
   "outputs": [],
   "source": [
    "data = pd.read_csv('./data/yelp.csv', index_col = 0)  #index_col = 0 0번째 컬럼을 인덱스러 넣는다."
   ]
  },
  {
   "cell_type": "code",
   "execution_count": 4,
   "id": "223605d8",
   "metadata": {},
   "outputs": [
    {
     "data": {
      "text/html": [
       "<div>\n",
       "<style scoped>\n",
       "    .dataframe tbody tr th:only-of-type {\n",
       "        vertical-align: middle;\n",
       "    }\n",
       "\n",
       "    .dataframe tbody tr th {\n",
       "        vertical-align: top;\n",
       "    }\n",
       "\n",
       "    .dataframe thead th {\n",
       "        text-align: right;\n",
       "    }\n",
       "</style>\n",
       "<table border=\"1\" class=\"dataframe\">\n",
       "  <thead>\n",
       "    <tr style=\"text-align: right;\">\n",
       "      <th></th>\n",
       "      <th>review_id</th>\n",
       "      <th>user_id</th>\n",
       "      <th>business_id</th>\n",
       "      <th>stars</th>\n",
       "      <th>date</th>\n",
       "      <th>text</th>\n",
       "      <th>useful</th>\n",
       "      <th>funny</th>\n",
       "      <th>cool</th>\n",
       "    </tr>\n",
       "  </thead>\n",
       "  <tbody>\n",
       "    <tr>\n",
       "      <th>2967245</th>\n",
       "      <td>aMleVK0lQcOSNCs56_gSbg</td>\n",
       "      <td>miHaLnLanDKfZqZHet0uWw</td>\n",
       "      <td>Xp_cWXY5rxDLkX-wqUg-iQ</td>\n",
       "      <td>5</td>\n",
       "      <td>2015-09-30</td>\n",
       "      <td>LOVE the cheeses here.  They are worth the pri...</td>\n",
       "      <td>0</td>\n",
       "      <td>0</td>\n",
       "      <td>1</td>\n",
       "    </tr>\n",
       "    <tr>\n",
       "      <th>4773684</th>\n",
       "      <td>Hs1f--t9JnVKW9A1U2uhKA</td>\n",
       "      <td>r_RUQSGZcd5bSgmTcS5IfQ</td>\n",
       "      <td>NuGZD3yBVqzpY1HuzT26mQ</td>\n",
       "      <td>5</td>\n",
       "      <td>2015-06-04</td>\n",
       "      <td>This has become our go-to sushi place. The sus...</td>\n",
       "      <td>0</td>\n",
       "      <td>0</td>\n",
       "      <td>0</td>\n",
       "    </tr>\n",
       "    <tr>\n",
       "      <th>1139855</th>\n",
       "      <td>i7aiPgNrNaFoM8J_j2OSyQ</td>\n",
       "      <td>zz7lojg6QdZbKFCJiHsj7w</td>\n",
       "      <td>ii8sAGBexBOJoYRFafF9XQ</td>\n",
       "      <td>1</td>\n",
       "      <td>2016-07-03</td>\n",
       "      <td>I was very disappointed with the hotel. The re...</td>\n",
       "      <td>2</td>\n",
       "      <td>1</td>\n",
       "      <td>1</td>\n",
       "    </tr>\n",
       "    <tr>\n",
       "      <th>3997153</th>\n",
       "      <td>uft6iMwNQh4I2UDpmbXggA</td>\n",
       "      <td>p_oXN3L9oi8nmmJigf8c9Q</td>\n",
       "      <td>r0j4IpUbcdC1-HfoMYae4w</td>\n",
       "      <td>5</td>\n",
       "      <td>2016-10-15</td>\n",
       "      <td>Love this place - super amazing - staff here i...</td>\n",
       "      <td>0</td>\n",
       "      <td>0</td>\n",
       "      <td>0</td>\n",
       "    </tr>\n",
       "    <tr>\n",
       "      <th>4262000</th>\n",
       "      <td>y9QmJ16mrfBZS6Td6Yqo0g</td>\n",
       "      <td>jovtGPaHAqP6XfG9BFwY7A</td>\n",
       "      <td>j6UwIfXrSkGTdVkRu7K6WA</td>\n",
       "      <td>5</td>\n",
       "      <td>2017-03-14</td>\n",
       "      <td>Thank you Dana!!!! Having dyed my hair black p...</td>\n",
       "      <td>0</td>\n",
       "      <td>0</td>\n",
       "      <td>0</td>\n",
       "    </tr>\n",
       "  </tbody>\n",
       "</table>\n",
       "</div>"
      ],
      "text/plain": [
       "                      review_id                 user_id  \\\n",
       "2967245  aMleVK0lQcOSNCs56_gSbg  miHaLnLanDKfZqZHet0uWw   \n",
       "4773684  Hs1f--t9JnVKW9A1U2uhKA  r_RUQSGZcd5bSgmTcS5IfQ   \n",
       "1139855  i7aiPgNrNaFoM8J_j2OSyQ  zz7lojg6QdZbKFCJiHsj7w   \n",
       "3997153  uft6iMwNQh4I2UDpmbXggA  p_oXN3L9oi8nmmJigf8c9Q   \n",
       "4262000  y9QmJ16mrfBZS6Td6Yqo0g  jovtGPaHAqP6XfG9BFwY7A   \n",
       "\n",
       "                    business_id  stars        date  \\\n",
       "2967245  Xp_cWXY5rxDLkX-wqUg-iQ      5  2015-09-30   \n",
       "4773684  NuGZD3yBVqzpY1HuzT26mQ      5  2015-06-04   \n",
       "1139855  ii8sAGBexBOJoYRFafF9XQ      1  2016-07-03   \n",
       "3997153  r0j4IpUbcdC1-HfoMYae4w      5  2016-10-15   \n",
       "4262000  j6UwIfXrSkGTdVkRu7K6WA      5  2017-03-14   \n",
       "\n",
       "                                                      text  useful  funny  \\\n",
       "2967245  LOVE the cheeses here.  They are worth the pri...       0      0   \n",
       "4773684  This has become our go-to sushi place. The sus...       0      0   \n",
       "1139855  I was very disappointed with the hotel. The re...       2      1   \n",
       "3997153  Love this place - super amazing - staff here i...       0      0   \n",
       "4262000  Thank you Dana!!!! Having dyed my hair black p...       0      0   \n",
       "\n",
       "         cool  \n",
       "2967245     1  \n",
       "4773684     0  \n",
       "1139855     1  \n",
       "3997153     0  \n",
       "4262000     0  "
      ]
     },
     "execution_count": 4,
     "metadata": {},
     "output_type": "execute_result"
    }
   ],
   "source": [
    "data.head()"
   ]
  },
  {
   "cell_type": "markdown",
   "id": "5f8cdce1",
   "metadata": {},
   "source": [
    "우리가 살펴볼 컬럼은 stars [별점,총평] 과 text 이다. 나머지는 drop or 영향이 있나 없나 살펴볼정도 이다."
   ]
  },
  {
   "cell_type": "code",
   "execution_count": 5,
   "id": "677ac891",
   "metadata": {},
   "outputs": [
    {
     "name": "stdout",
     "output_type": "stream",
     "text": [
      "<class 'pandas.core.frame.DataFrame'>\n",
      "Int64Index: 10000 entries, 2967245 to 838267\n",
      "Data columns (total 9 columns):\n",
      " #   Column       Non-Null Count  Dtype \n",
      "---  ------       --------------  ----- \n",
      " 0   review_id    10000 non-null  object\n",
      " 1   user_id      10000 non-null  object\n",
      " 2   business_id  10000 non-null  object\n",
      " 3   stars        10000 non-null  int64 \n",
      " 4   date         10000 non-null  object\n",
      " 5   text         10000 non-null  object\n",
      " 6   useful       10000 non-null  int64 \n",
      " 7   funny        10000 non-null  int64 \n",
      " 8   cool         10000 non-null  int64 \n",
      "dtypes: int64(4), object(5)\n",
      "memory usage: 781.2+ KB\n"
     ]
    }
   ],
   "source": [
    "data.info()"
   ]
  },
  {
   "cell_type": "markdown",
   "id": "17b490eb",
   "metadata": {},
   "source": [
    "결측치는 없는 것으로 확인된다. 총 10000개 이고, Dtype를 살펴본다."
   ]
  },
  {
   "cell_type": "code",
   "execution_count": 6,
   "id": "f70fef5a",
   "metadata": {},
   "outputs": [
    {
     "data": {
      "text/html": [
       "<div>\n",
       "<style scoped>\n",
       "    .dataframe tbody tr th:only-of-type {\n",
       "        vertical-align: middle;\n",
       "    }\n",
       "\n",
       "    .dataframe tbody tr th {\n",
       "        vertical-align: top;\n",
       "    }\n",
       "\n",
       "    .dataframe thead th {\n",
       "        text-align: right;\n",
       "    }\n",
       "</style>\n",
       "<table border=\"1\" class=\"dataframe\">\n",
       "  <thead>\n",
       "    <tr style=\"text-align: right;\">\n",
       "      <th></th>\n",
       "      <th>stars</th>\n",
       "      <th>useful</th>\n",
       "      <th>funny</th>\n",
       "      <th>cool</th>\n",
       "    </tr>\n",
       "  </thead>\n",
       "  <tbody>\n",
       "    <tr>\n",
       "      <th>count</th>\n",
       "      <td>10000.000000</td>\n",
       "      <td>10000.000000</td>\n",
       "      <td>10000.000000</td>\n",
       "      <td>10000.000000</td>\n",
       "    </tr>\n",
       "    <tr>\n",
       "      <th>mean</th>\n",
       "      <td>4.012800</td>\n",
       "      <td>1.498800</td>\n",
       "      <td>0.464200</td>\n",
       "      <td>0.542500</td>\n",
       "    </tr>\n",
       "    <tr>\n",
       "      <th>std</th>\n",
       "      <td>1.724684</td>\n",
       "      <td>6.339355</td>\n",
       "      <td>1.926523</td>\n",
       "      <td>2.010273</td>\n",
       "    </tr>\n",
       "    <tr>\n",
       "      <th>min</th>\n",
       "      <td>1.000000</td>\n",
       "      <td>0.000000</td>\n",
       "      <td>0.000000</td>\n",
       "      <td>0.000000</td>\n",
       "    </tr>\n",
       "    <tr>\n",
       "      <th>25%</th>\n",
       "      <td>5.000000</td>\n",
       "      <td>0.000000</td>\n",
       "      <td>0.000000</td>\n",
       "      <td>0.000000</td>\n",
       "    </tr>\n",
       "    <tr>\n",
       "      <th>50%</th>\n",
       "      <td>5.000000</td>\n",
       "      <td>0.000000</td>\n",
       "      <td>0.000000</td>\n",
       "      <td>0.000000</td>\n",
       "    </tr>\n",
       "    <tr>\n",
       "      <th>75%</th>\n",
       "      <td>5.000000</td>\n",
       "      <td>2.000000</td>\n",
       "      <td>0.000000</td>\n",
       "      <td>0.000000</td>\n",
       "    </tr>\n",
       "    <tr>\n",
       "      <th>max</th>\n",
       "      <td>5.000000</td>\n",
       "      <td>533.000000</td>\n",
       "      <td>83.000000</td>\n",
       "      <td>97.000000</td>\n",
       "    </tr>\n",
       "  </tbody>\n",
       "</table>\n",
       "</div>"
      ],
      "text/plain": [
       "              stars        useful         funny          cool\n",
       "count  10000.000000  10000.000000  10000.000000  10000.000000\n",
       "mean       4.012800      1.498800      0.464200      0.542500\n",
       "std        1.724684      6.339355      1.926523      2.010273\n",
       "min        1.000000      0.000000      0.000000      0.000000\n",
       "25%        5.000000      0.000000      0.000000      0.000000\n",
       "50%        5.000000      0.000000      0.000000      0.000000\n",
       "75%        5.000000      2.000000      0.000000      0.000000\n",
       "max        5.000000    533.000000     83.000000     97.000000"
      ]
     },
     "execution_count": 6,
     "metadata": {},
     "output_type": "execute_result"
    }
   ],
   "source": [
    "data.describe()"
   ]
  },
  {
   "cell_type": "markdown",
   "id": "21db3189",
   "metadata": {},
   "source": [
    ".describe() 함수는 text or object는 불러오지 않는다. 즉 숫자 데이터만 가지고 온다."
   ]
  },
  {
   "cell_type": "markdown",
   "id": "e2592719",
   "metadata": {},
   "source": [
    "max를 보면 유난히 숫자가 크다. 아마 아웃라이너 데이터로 추정이 된다. 그리고 불필요한 컬럼들을 drop 해보자."
   ]
  },
  {
   "cell_type": "code",
   "execution_count": 7,
   "id": "ecc96662",
   "metadata": {},
   "outputs": [
    {
     "data": {
      "text/html": [
       "<div>\n",
       "<style scoped>\n",
       "    .dataframe tbody tr th:only-of-type {\n",
       "        vertical-align: middle;\n",
       "    }\n",
       "\n",
       "    .dataframe tbody tr th {\n",
       "        vertical-align: top;\n",
       "    }\n",
       "\n",
       "    .dataframe thead th {\n",
       "        text-align: right;\n",
       "    }\n",
       "</style>\n",
       "<table border=\"1\" class=\"dataframe\">\n",
       "  <thead>\n",
       "    <tr style=\"text-align: right;\">\n",
       "      <th></th>\n",
       "      <th>review_id</th>\n",
       "      <th>user_id</th>\n",
       "      <th>business_id</th>\n",
       "      <th>stars</th>\n",
       "      <th>date</th>\n",
       "      <th>text</th>\n",
       "      <th>useful</th>\n",
       "      <th>funny</th>\n",
       "      <th>cool</th>\n",
       "    </tr>\n",
       "  </thead>\n",
       "  <tbody>\n",
       "    <tr>\n",
       "      <th>2967245</th>\n",
       "      <td>aMleVK0lQcOSNCs56_gSbg</td>\n",
       "      <td>miHaLnLanDKfZqZHet0uWw</td>\n",
       "      <td>Xp_cWXY5rxDLkX-wqUg-iQ</td>\n",
       "      <td>5</td>\n",
       "      <td>2015-09-30</td>\n",
       "      <td>LOVE the cheeses here.  They are worth the pri...</td>\n",
       "      <td>0</td>\n",
       "      <td>0</td>\n",
       "      <td>1</td>\n",
       "    </tr>\n",
       "    <tr>\n",
       "      <th>4773684</th>\n",
       "      <td>Hs1f--t9JnVKW9A1U2uhKA</td>\n",
       "      <td>r_RUQSGZcd5bSgmTcS5IfQ</td>\n",
       "      <td>NuGZD3yBVqzpY1HuzT26mQ</td>\n",
       "      <td>5</td>\n",
       "      <td>2015-06-04</td>\n",
       "      <td>This has become our go-to sushi place. The sus...</td>\n",
       "      <td>0</td>\n",
       "      <td>0</td>\n",
       "      <td>0</td>\n",
       "    </tr>\n",
       "    <tr>\n",
       "      <th>1139855</th>\n",
       "      <td>i7aiPgNrNaFoM8J_j2OSyQ</td>\n",
       "      <td>zz7lojg6QdZbKFCJiHsj7w</td>\n",
       "      <td>ii8sAGBexBOJoYRFafF9XQ</td>\n",
       "      <td>1</td>\n",
       "      <td>2016-07-03</td>\n",
       "      <td>I was very disappointed with the hotel. The re...</td>\n",
       "      <td>2</td>\n",
       "      <td>1</td>\n",
       "      <td>1</td>\n",
       "    </tr>\n",
       "    <tr>\n",
       "      <th>3997153</th>\n",
       "      <td>uft6iMwNQh4I2UDpmbXggA</td>\n",
       "      <td>p_oXN3L9oi8nmmJigf8c9Q</td>\n",
       "      <td>r0j4IpUbcdC1-HfoMYae4w</td>\n",
       "      <td>5</td>\n",
       "      <td>2016-10-15</td>\n",
       "      <td>Love this place - super amazing - staff here i...</td>\n",
       "      <td>0</td>\n",
       "      <td>0</td>\n",
       "      <td>0</td>\n",
       "    </tr>\n",
       "    <tr>\n",
       "      <th>4262000</th>\n",
       "      <td>y9QmJ16mrfBZS6Td6Yqo0g</td>\n",
       "      <td>jovtGPaHAqP6XfG9BFwY7A</td>\n",
       "      <td>j6UwIfXrSkGTdVkRu7K6WA</td>\n",
       "      <td>5</td>\n",
       "      <td>2017-03-14</td>\n",
       "      <td>Thank you Dana!!!! Having dyed my hair black p...</td>\n",
       "      <td>0</td>\n",
       "      <td>0</td>\n",
       "      <td>0</td>\n",
       "    </tr>\n",
       "  </tbody>\n",
       "</table>\n",
       "</div>"
      ],
      "text/plain": [
       "                      review_id                 user_id  \\\n",
       "2967245  aMleVK0lQcOSNCs56_gSbg  miHaLnLanDKfZqZHet0uWw   \n",
       "4773684  Hs1f--t9JnVKW9A1U2uhKA  r_RUQSGZcd5bSgmTcS5IfQ   \n",
       "1139855  i7aiPgNrNaFoM8J_j2OSyQ  zz7lojg6QdZbKFCJiHsj7w   \n",
       "3997153  uft6iMwNQh4I2UDpmbXggA  p_oXN3L9oi8nmmJigf8c9Q   \n",
       "4262000  y9QmJ16mrfBZS6Td6Yqo0g  jovtGPaHAqP6XfG9BFwY7A   \n",
       "\n",
       "                    business_id  stars        date  \\\n",
       "2967245  Xp_cWXY5rxDLkX-wqUg-iQ      5  2015-09-30   \n",
       "4773684  NuGZD3yBVqzpY1HuzT26mQ      5  2015-06-04   \n",
       "1139855  ii8sAGBexBOJoYRFafF9XQ      1  2016-07-03   \n",
       "3997153  r0j4IpUbcdC1-HfoMYae4w      5  2016-10-15   \n",
       "4262000  j6UwIfXrSkGTdVkRu7K6WA      5  2017-03-14   \n",
       "\n",
       "                                                      text  useful  funny  \\\n",
       "2967245  LOVE the cheeses here.  They are worth the pri...       0      0   \n",
       "4773684  This has become our go-to sushi place. The sus...       0      0   \n",
       "1139855  I was very disappointed with the hotel. The re...       2      1   \n",
       "3997153  Love this place - super amazing - staff here i...       0      0   \n",
       "4262000  Thank you Dana!!!! Having dyed my hair black p...       0      0   \n",
       "\n",
       "         cool  \n",
       "2967245     1  \n",
       "4773684     0  \n",
       "1139855     1  \n",
       "3997153     0  \n",
       "4262000     0  "
      ]
     },
     "execution_count": 7,
     "metadata": {},
     "output_type": "execute_result"
    }
   ],
   "source": [
    "data.head()"
   ]
  },
  {
   "cell_type": "code",
   "execution_count": 8,
   "id": "163826d5",
   "metadata": {},
   "outputs": [],
   "source": [
    "data.drop(['review_id','user_id','business_id','date'],axis=1, inplace = True)"
   ]
  },
  {
   "cell_type": "markdown",
   "id": "af095b2b",
   "metadata": {},
   "source": [
    "axis = 1 과 inplace = True 를 해주어야 함을 기억하자. inplace = True 는 저장을 해준다."
   ]
  },
  {
   "cell_type": "code",
   "execution_count": 9,
   "id": "a019ccb7",
   "metadata": {},
   "outputs": [
    {
     "data": {
      "text/html": [
       "<div>\n",
       "<style scoped>\n",
       "    .dataframe tbody tr th:only-of-type {\n",
       "        vertical-align: middle;\n",
       "    }\n",
       "\n",
       "    .dataframe tbody tr th {\n",
       "        vertical-align: top;\n",
       "    }\n",
       "\n",
       "    .dataframe thead th {\n",
       "        text-align: right;\n",
       "    }\n",
       "</style>\n",
       "<table border=\"1\" class=\"dataframe\">\n",
       "  <thead>\n",
       "    <tr style=\"text-align: right;\">\n",
       "      <th></th>\n",
       "      <th>stars</th>\n",
       "      <th>text</th>\n",
       "      <th>useful</th>\n",
       "      <th>funny</th>\n",
       "      <th>cool</th>\n",
       "    </tr>\n",
       "  </thead>\n",
       "  <tbody>\n",
       "    <tr>\n",
       "      <th>2967245</th>\n",
       "      <td>5</td>\n",
       "      <td>LOVE the cheeses here.  They are worth the pri...</td>\n",
       "      <td>0</td>\n",
       "      <td>0</td>\n",
       "      <td>1</td>\n",
       "    </tr>\n",
       "    <tr>\n",
       "      <th>4773684</th>\n",
       "      <td>5</td>\n",
       "      <td>This has become our go-to sushi place. The sus...</td>\n",
       "      <td>0</td>\n",
       "      <td>0</td>\n",
       "      <td>0</td>\n",
       "    </tr>\n",
       "    <tr>\n",
       "      <th>1139855</th>\n",
       "      <td>1</td>\n",
       "      <td>I was very disappointed with the hotel. The re...</td>\n",
       "      <td>2</td>\n",
       "      <td>1</td>\n",
       "      <td>1</td>\n",
       "    </tr>\n",
       "    <tr>\n",
       "      <th>3997153</th>\n",
       "      <td>5</td>\n",
       "      <td>Love this place - super amazing - staff here i...</td>\n",
       "      <td>0</td>\n",
       "      <td>0</td>\n",
       "      <td>0</td>\n",
       "    </tr>\n",
       "    <tr>\n",
       "      <th>4262000</th>\n",
       "      <td>5</td>\n",
       "      <td>Thank you Dana!!!! Having dyed my hair black p...</td>\n",
       "      <td>0</td>\n",
       "      <td>0</td>\n",
       "      <td>0</td>\n",
       "    </tr>\n",
       "  </tbody>\n",
       "</table>\n",
       "</div>"
      ],
      "text/plain": [
       "         stars                                               text  useful  \\\n",
       "2967245      5  LOVE the cheeses here.  They are worth the pri...       0   \n",
       "4773684      5  This has become our go-to sushi place. The sus...       0   \n",
       "1139855      1  I was very disappointed with the hotel. The re...       2   \n",
       "3997153      5  Love this place - super amazing - staff here i...       0   \n",
       "4262000      5  Thank you Dana!!!! Having dyed my hair black p...       0   \n",
       "\n",
       "         funny  cool  \n",
       "2967245      0     1  \n",
       "4773684      0     0  \n",
       "1139855      1     1  \n",
       "3997153      0     0  \n",
       "4262000      0     0  "
      ]
     },
     "execution_count": 9,
     "metadata": {},
     "output_type": "execute_result"
    }
   ],
   "source": [
    "data.head()"
   ]
  },
  {
   "cell_type": "code",
   "execution_count": 10,
   "id": "d38f2c30",
   "metadata": {},
   "outputs": [
    {
     "data": {
      "text/plain": [
       "'LOVE the cheeses here.  They are worth the price.  Great for finding treats for a special dinner or picnic.  Nice on sample days. Yum!!! Top quality meats. Nice selection of non brand frozen veggies.  Veggie chips are mega tasty.  Always quick and friendly check out.  Produce not as stellar as it once was, but also not finding better in Madison.'"
      ]
     },
     "execution_count": 10,
     "metadata": {},
     "output_type": "execute_result"
    }
   ],
   "source": [
    "data.iloc[0]['text']"
   ]
  },
  {
   "cell_type": "code",
   "execution_count": 11,
   "id": "6c415695",
   "metadata": {},
   "outputs": [
    {
     "data": {
      "text/plain": [
       "stars                                                     5\n",
       "text      LOVE the cheeses here.  They are worth the pri...\n",
       "useful                                                    0\n",
       "funny                                                     0\n",
       "cool                                                      1\n",
       "Name: 2967245, dtype: object"
      ]
     },
     "execution_count": 11,
     "metadata": {},
     "output_type": "execute_result"
    }
   ],
   "source": [
    "data.iloc[0]"
   ]
  },
  {
   "cell_type": "code",
   "execution_count": 12,
   "id": "31a7ef41",
   "metadata": {},
   "outputs": [
    {
     "data": {
      "text/plain": [
       "347"
      ]
     },
     "execution_count": 12,
     "metadata": {},
     "output_type": "execute_result"
    }
   ],
   "source": [
    "len(data.iloc[0]['text'])"
   ]
  },
  {
   "cell_type": "code",
   "execution_count": 13,
   "id": "cc6dffdd",
   "metadata": {},
   "outputs": [
    {
     "data": {
      "text/plain": [
       "2967245     347\n",
       "4773684     377\n",
       "1139855     663\n",
       "3997153     141\n",
       "4262000     455\n",
       "           ... \n",
       "1567641     779\n",
       "4910763     268\n",
       "1036315    1288\n",
       "555962     1160\n",
       "838267      137\n",
       "Name: text, Length: 10000, dtype: int64"
      ]
     },
     "execution_count": 13,
     "metadata": {},
     "output_type": "execute_result"
    }
   ],
   "source": [
    "data['text'].apply(len)"
   ]
  },
  {
   "cell_type": "markdown",
   "id": "f89daf60",
   "metadata": {},
   "source": [
    "각각의 관측치가 몇개의 텍스트가 있는지 확인 할 수 있다. "
   ]
  },
  {
   "cell_type": "markdown",
   "id": "39e19d9f",
   "metadata": {},
   "source": [
    "이것을 data['text_length'] = data['text'].apply(len) 으로 할당한다."
   ]
  },
  {
   "cell_type": "code",
   "execution_count": 14,
   "id": "386fd2fe",
   "metadata": {},
   "outputs": [],
   "source": [
    " data['text_length'] = data['text'].apply(len)"
   ]
  },
  {
   "cell_type": "code",
   "execution_count": 15,
   "id": "72cd0b61",
   "metadata": {},
   "outputs": [
    {
     "data": {
      "text/html": [
       "<div>\n",
       "<style scoped>\n",
       "    .dataframe tbody tr th:only-of-type {\n",
       "        vertical-align: middle;\n",
       "    }\n",
       "\n",
       "    .dataframe tbody tr th {\n",
       "        vertical-align: top;\n",
       "    }\n",
       "\n",
       "    .dataframe thead th {\n",
       "        text-align: right;\n",
       "    }\n",
       "</style>\n",
       "<table border=\"1\" class=\"dataframe\">\n",
       "  <thead>\n",
       "    <tr style=\"text-align: right;\">\n",
       "      <th></th>\n",
       "      <th>stars</th>\n",
       "      <th>text</th>\n",
       "      <th>useful</th>\n",
       "      <th>funny</th>\n",
       "      <th>cool</th>\n",
       "      <th>text_length</th>\n",
       "    </tr>\n",
       "  </thead>\n",
       "  <tbody>\n",
       "    <tr>\n",
       "      <th>2967245</th>\n",
       "      <td>5</td>\n",
       "      <td>LOVE the cheeses here.  They are worth the pri...</td>\n",
       "      <td>0</td>\n",
       "      <td>0</td>\n",
       "      <td>1</td>\n",
       "      <td>347</td>\n",
       "    </tr>\n",
       "    <tr>\n",
       "      <th>4773684</th>\n",
       "      <td>5</td>\n",
       "      <td>This has become our go-to sushi place. The sus...</td>\n",
       "      <td>0</td>\n",
       "      <td>0</td>\n",
       "      <td>0</td>\n",
       "      <td>377</td>\n",
       "    </tr>\n",
       "    <tr>\n",
       "      <th>1139855</th>\n",
       "      <td>1</td>\n",
       "      <td>I was very disappointed with the hotel. The re...</td>\n",
       "      <td>2</td>\n",
       "      <td>1</td>\n",
       "      <td>1</td>\n",
       "      <td>663</td>\n",
       "    </tr>\n",
       "    <tr>\n",
       "      <th>3997153</th>\n",
       "      <td>5</td>\n",
       "      <td>Love this place - super amazing - staff here i...</td>\n",
       "      <td>0</td>\n",
       "      <td>0</td>\n",
       "      <td>0</td>\n",
       "      <td>141</td>\n",
       "    </tr>\n",
       "    <tr>\n",
       "      <th>4262000</th>\n",
       "      <td>5</td>\n",
       "      <td>Thank you Dana!!!! Having dyed my hair black p...</td>\n",
       "      <td>0</td>\n",
       "      <td>0</td>\n",
       "      <td>0</td>\n",
       "      <td>455</td>\n",
       "    </tr>\n",
       "  </tbody>\n",
       "</table>\n",
       "</div>"
      ],
      "text/plain": [
       "         stars                                               text  useful  \\\n",
       "2967245      5  LOVE the cheeses here.  They are worth the pri...       0   \n",
       "4773684      5  This has become our go-to sushi place. The sus...       0   \n",
       "1139855      1  I was very disappointed with the hotel. The re...       2   \n",
       "3997153      5  Love this place - super amazing - staff here i...       0   \n",
       "4262000      5  Thank you Dana!!!! Having dyed my hair black p...       0   \n",
       "\n",
       "         funny  cool  text_length  \n",
       "2967245      0     1          347  \n",
       "4773684      0     0          377  \n",
       "1139855      1     1          663  \n",
       "3997153      0     0          141  \n",
       "4262000      0     0          455  "
      ]
     },
     "execution_count": 15,
     "metadata": {},
     "output_type": "execute_result"
    }
   ],
   "source": [
    "data.head()"
   ]
  },
  {
   "cell_type": "markdown",
   "id": "15ae9acf",
   "metadata": {},
   "source": [
    "text_length 의 컬럼이 하나 더 추가됨을 확인 할 수 있다."
   ]
  },
  {
   "cell_type": "markdown",
   "id": "f73bac0b",
   "metadata": {},
   "source": [
    "stars (별점)을 확인해 보자."
   ]
  },
  {
   "cell_type": "code",
   "execution_count": 16,
   "id": "eb40d637",
   "metadata": {},
   "outputs": [
    {
     "data": {
      "text/plain": [
       "5    7532\n",
       "1    2468\n",
       "Name: stars, dtype: int64"
      ]
     },
     "execution_count": 16,
     "metadata": {},
     "output_type": "execute_result"
    }
   ],
   "source": [
    "data['stars'].value_counts()"
   ]
  },
  {
   "cell_type": "markdown",
   "id": "60ade83d",
   "metadata": {},
   "source": [
    "5점과 1점 만이 있음을 확인할 수 있고, 갯수는 확인이 가능하다. 이것을 그래프로 나타내 보자."
   ]
  },
  {
   "cell_type": "code",
   "execution_count": 17,
   "id": "3a9da0a7",
   "metadata": {},
   "outputs": [
    {
     "name": "stderr",
     "output_type": "stream",
     "text": [
      "/home/ubuntu/.local/lib/python3.6/site-packages/seaborn/_decorators.py:43: FutureWarning: Pass the following variable as a keyword arg: x. From version 0.12, the only valid positional argument will be `data`, and passing other arguments without an explicit keyword will result in an error or misinterpretation.\n",
      "  FutureWarning\n"
     ]
    },
    {
     "data": {
      "text/plain": [
       "<AxesSubplot:xlabel='stars', ylabel='count'>"
      ]
     },
     "execution_count": 17,
     "metadata": {},
     "output_type": "execute_result"
    },
    {
     "data": {
      "image/png": "[encoded data removed]",
      "text/plain": [
       "<Figure size 432x288 with 1 Axes>"
      ]
     },
     "metadata": {
      "needs_background": "light"
     },
     "output_type": "display_data"
    }
   ],
   "source": [
    "sns.countplot(data['stars'])"
   ]
  },
  {
   "cell_type": "markdown",
   "id": "ba6e651c",
   "metadata": {},
   "source": [
    "다음에는, text_length의 분포를 살펴보자."
   ]
  },
  {
   "cell_type": "code",
   "execution_count": 18,
   "id": "460105d5",
   "metadata": {},
   "outputs": [
    {
     "name": "stderr",
     "output_type": "stream",
     "text": [
      "/home/ubuntu/.local/lib/python3.6/site-packages/seaborn/distributions.py:2557: FutureWarning: `distplot` is a deprecated function and will be removed in a future version. Please adapt your code to use either `displot` (a figure-level function with similar flexibility) or `histplot` (an axes-level function for histograms).\n",
      "  warnings.warn(msg, FutureWarning)\n"
     ]
    },
    {
     "data": {
      "text/plain": [
       "<AxesSubplot:xlabel='text_length', ylabel='Density'>"
      ]
     },
     "execution_count": 18,
     "metadata": {},
     "output_type": "execute_result"
    },
    {
     "data": {
      "image/png": "[encoded data removed]",
      "text/plain": [
       "<Figure size 432x288 with 1 Axes>"
      ]
     },
     "metadata": {
      "needs_background": "light"
     },
     "output_type": "display_data"
    }
   ],
   "source": [
    "sns.distplot(data['text_length'])"
   ]
  },
  {
   "cell_type": "markdown",
   "id": "1e32ca38",
   "metadata": {},
   "source": [
    "0 ~ 1000개 사이가 가장 많음을 확인 할 수 있다. "
   ]
  },
  {
   "cell_type": "code",
   "execution_count": 19,
   "id": "c29cf1a2",
   "metadata": {},
   "outputs": [
    {
     "data": {
      "text/html": [
       "<div>\n",
       "<style scoped>\n",
       "    .dataframe tbody tr th:only-of-type {\n",
       "        vertical-align: middle;\n",
       "    }\n",
       "\n",
       "    .dataframe tbody tr th {\n",
       "        vertical-align: top;\n",
       "    }\n",
       "\n",
       "    .dataframe thead th {\n",
       "        text-align: right;\n",
       "    }\n",
       "</style>\n",
       "<table border=\"1\" class=\"dataframe\">\n",
       "  <thead>\n",
       "    <tr style=\"text-align: right;\">\n",
       "      <th></th>\n",
       "      <th>stars</th>\n",
       "      <th>useful</th>\n",
       "      <th>funny</th>\n",
       "      <th>cool</th>\n",
       "      <th>text_length</th>\n",
       "    </tr>\n",
       "  </thead>\n",
       "  <tbody>\n",
       "    <tr>\n",
       "      <th>stars</th>\n",
       "      <td>1.000000</td>\n",
       "      <td>-0.098825</td>\n",
       "      <td>-0.089860</td>\n",
       "      <td>0.060101</td>\n",
       "      <td>-0.221752</td>\n",
       "    </tr>\n",
       "    <tr>\n",
       "      <th>useful</th>\n",
       "      <td>-0.098825</td>\n",
       "      <td>1.000000</td>\n",
       "      <td>0.656630</td>\n",
       "      <td>0.525962</td>\n",
       "      <td>0.161592</td>\n",
       "    </tr>\n",
       "    <tr>\n",
       "      <th>funny</th>\n",
       "      <td>-0.089860</td>\n",
       "      <td>0.656630</td>\n",
       "      <td>1.000000</td>\n",
       "      <td>0.741797</td>\n",
       "      <td>0.215003</td>\n",
       "    </tr>\n",
       "    <tr>\n",
       "      <th>cool</th>\n",
       "      <td>0.060101</td>\n",
       "      <td>0.525962</td>\n",
       "      <td>0.741797</td>\n",
       "      <td>1.000000</td>\n",
       "      <td>0.193500</td>\n",
       "    </tr>\n",
       "    <tr>\n",
       "      <th>text_length</th>\n",
       "      <td>-0.221752</td>\n",
       "      <td>0.161592</td>\n",
       "      <td>0.215003</td>\n",
       "      <td>0.193500</td>\n",
       "      <td>1.000000</td>\n",
       "    </tr>\n",
       "  </tbody>\n",
       "</table>\n",
       "</div>"
      ],
      "text/plain": [
       "                stars    useful     funny      cool  text_length\n",
       "stars        1.000000 -0.098825 -0.089860  0.060101    -0.221752\n",
       "useful      -0.098825  1.000000  0.656630  0.525962     0.161592\n",
       "funny       -0.089860  0.656630  1.000000  0.741797     0.215003\n",
       "cool         0.060101  0.525962  0.741797  1.000000     0.193500\n",
       "text_length -0.221752  0.161592  0.215003  0.193500     1.000000"
      ]
     },
     "execution_count": 19,
     "metadata": {},
     "output_type": "execute_result"
    }
   ],
   "source": [
    "data.corr()"
   ]
  },
  {
   "cell_type": "code",
   "execution_count": 20,
   "id": "e20ae545",
   "metadata": {},
   "outputs": [
    {
     "data": {
      "text/plain": [
       "<AxesSubplot:>"
      ]
     },
     "execution_count": 20,
     "metadata": {},
     "output_type": "execute_result"
    },
    {
     "data": {
      "image/png": "[encoded data removed]",
      "text/plain": [
       "<Figure size 432x288 with 2 Axes>"
      ]
     },
     "metadata": {
      "needs_background": "light"
     },
     "output_type": "display_data"
    }
   ],
   "source": [
    "sns.heatmap(data.corr())"
   ]
  },
  {
   "cell_type": "code",
   "execution_count": 21,
   "id": "c150f2ca",
   "metadata": {},
   "outputs": [
    {
     "data": {
      "text/plain": [
       "<AxesSubplot:>"
      ]
     },
     "execution_count": 21,
     "metadata": {},
     "output_type": "execute_result"
    },
    {
     "data": {
      "image/png": "[encoded data removed]",
      "text/plain": [
       "<Figure size 432x288 with 2 Axes>"
      ]
     },
     "metadata": {
      "needs_background": "light"
     },
     "output_type": "display_data"
    }
   ],
   "source": [
    "sns.heatmap(data.corr(), cmap = 'coolwarm')"
   ]
  },
  {
   "cell_type": "markdown",
   "id": "93b32d7c",
   "metadata": {},
   "source": [
    "## 1. Word Cloud를 통해 중요 단어 확인 하기"
   ]
  },
  {
   "cell_type": "code",
   "execution_count": 22,
   "id": "3ab8ccc8",
   "metadata": {},
   "outputs": [
    {
     "data": {
      "text/plain": [
       "2967245    LOVE the cheeses here.  They are worth the pri...\n",
       "4773684    This has become our go-to sushi place. The sus...\n",
       "1139855    I was very disappointed with the hotel. The re...\n",
       "3997153    Love this place - super amazing - staff here i...\n",
       "4262000    Thank you Dana!!!! Having dyed my hair black p...\n",
       "                                 ...                        \n",
       "1567641    I'm a sucker for places like this. Get me in f...\n",
       "4910763    Extremely rude staff!  Was told 4 min on a lar...\n",
       "1036315    I live in NYC and went to the RTR here in the ...\n",
       "555962     If you are looking for a trainer, then look no...\n",
       "838267     Awesome food. Awesome beer. Awesome service. N...\n",
       "Name: text, Length: 10000, dtype: object"
      ]
     },
     "execution_count": 22,
     "metadata": {},
     "output_type": "execute_result"
    }
   ],
   "source": [
    "data['text']"
   ]
  },
  {
   "cell_type": "markdown",
   "id": "1e9d964c",
   "metadata": {},
   "source": [
    "Word Cloud를 할때, 느낌표(!) 와 같은 불필요한 text를 제거하는 방법을 알아보자."
   ]
  },
  {
   "cell_type": "code",
   "execution_count": 23,
   "id": "6e52b388",
   "metadata": {},
   "outputs": [],
   "source": [
    "import string"
   ]
  },
  {
   "cell_type": "code",
   "execution_count": 24,
   "id": "14f6ec95",
   "metadata": {},
   "outputs": [
    {
     "data": {
      "text/plain": [
       "'!\"#$%&\\'()*+,-./:;<=>?@[\\\\]^_`{|}~'"
      ]
     },
     "execution_count": 24,
     "metadata": {},
     "output_type": "execute_result"
    }
   ],
   "source": [
    "string.punctuation"
   ]
  },
  {
   "cell_type": "code",
   "execution_count": 25,
   "id": "92fb3efd",
   "metadata": {},
   "outputs": [
    {
     "data": {
      "text/plain": [
       "'LOVE the cheeses here.  They are worth the price.  Great for finding treats for a special dinner or picnic.  Nice on sample days. Yum!!! Top quality meats. Nice selection of non brand frozen veggies.  Veggie chips are mega tasty.  Always quick and friendly check out.  Produce not as stellar as it once was, but also not finding better in Madison.'"
      ]
     },
     "execution_count": 25,
     "metadata": {},
     "output_type": "execute_result"
    }
   ],
   "source": [
    "data.iloc[0]['text']  # text의 첫번째 열을 가지고 온다."
   ]
  },
  {
   "cell_type": "code",
   "execution_count": 26,
   "id": "79bc87ca",
   "metadata": {},
   "outputs": [],
   "source": [
    "s = data.iloc[0]['text']  # s 라는 이름으로 할당하기"
   ]
  },
  {
   "cell_type": "code",
   "execution_count": 27,
   "id": "ce9e480a",
   "metadata": {},
   "outputs": [
    {
     "name": "stdout",
     "output_type": "stream",
     "text": [
      "L\n",
      "O\n",
      "V\n",
      "E\n",
      " \n",
      "t\n",
      "h\n",
      "e\n",
      " \n",
      "c\n",
      "h\n",
      "e\n",
      "e\n",
      "s\n",
      "e\n",
      "s\n",
      " \n",
      "h\n",
      "e\n",
      "r\n",
      "e\n",
      ".\n",
      " \n",
      " \n",
      "T\n",
      "h\n",
      "e\n",
      "y\n",
      " \n",
      "a\n",
      "r\n",
      "e\n",
      " \n",
      "w\n",
      "o\n",
      "r\n",
      "t\n",
      "h\n",
      " \n",
      "t\n",
      "h\n",
      "e\n",
      " \n",
      "p\n",
      "r\n",
      "i\n",
      "c\n",
      "e\n",
      ".\n",
      " \n",
      " \n",
      "G\n",
      "r\n",
      "e\n",
      "a\n",
      "t\n",
      " \n",
      "f\n",
      "o\n",
      "r\n",
      " \n",
      "f\n",
      "i\n",
      "n\n",
      "d\n",
      "i\n",
      "n\n",
      "g\n",
      " \n",
      "t\n",
      "r\n",
      "e\n",
      "a\n",
      "t\n",
      "s\n",
      " \n",
      "f\n",
      "o\n",
      "r\n",
      " \n",
      "a\n",
      " \n",
      "s\n",
      "p\n",
      "e\n",
      "c\n",
      "i\n",
      "a\n",
      "l\n",
      " \n",
      "d\n",
      "i\n",
      "n\n",
      "n\n",
      "e\n",
      "r\n",
      " \n",
      "o\n",
      "r\n",
      " \n",
      "p\n",
      "i\n",
      "c\n",
      "n\n",
      "i\n",
      "c\n",
      ".\n",
      " \n",
      " \n",
      "N\n",
      "i\n",
      "c\n",
      "e\n",
      " \n",
      "o\n",
      "n\n",
      " \n",
      "s\n",
      "a\n",
      "m\n",
      "p\n",
      "l\n",
      "e\n",
      " \n",
      "d\n",
      "a\n",
      "y\n",
      "s\n",
      ".\n",
      " \n",
      "Y\n",
      "u\n",
      "m\n",
      "!\n",
      "!\n",
      "!\n",
      " \n",
      "T\n",
      "o\n",
      "p\n",
      " \n",
      "q\n",
      "u\n",
      "a\n",
      "l\n",
      "i\n",
      "t\n",
      "y\n",
      " \n",
      "m\n",
      "e\n",
      "a\n",
      "t\n",
      "s\n",
      ".\n",
      " \n",
      "N\n",
      "i\n",
      "c\n",
      "e\n",
      " \n",
      "s\n",
      "e\n",
      "l\n",
      "e\n",
      "c\n",
      "t\n",
      "i\n",
      "o\n",
      "n\n",
      " \n",
      "o\n",
      "f\n",
      " \n",
      "n\n",
      "o\n",
      "n\n",
      " \n",
      "b\n",
      "r\n",
      "a\n",
      "n\n",
      "d\n",
      " \n",
      "f\n",
      "r\n",
      "o\n",
      "z\n",
      "e\n",
      "n\n",
      " \n",
      "v\n",
      "e\n",
      "g\n",
      "g\n",
      "i\n",
      "e\n",
      "s\n",
      ".\n",
      " \n",
      " \n",
      "V\n",
      "e\n",
      "g\n",
      "g\n",
      "i\n",
      "e\n",
      " \n",
      "c\n",
      "h\n",
      "i\n",
      "p\n",
      "s\n",
      " \n",
      "a\n",
      "r\n",
      "e\n",
      " \n",
      "m\n",
      "e\n",
      "g\n",
      "a\n",
      " \n",
      "t\n",
      "a\n",
      "s\n",
      "t\n",
      "y\n",
      ".\n",
      " \n",
      " \n",
      "A\n",
      "l\n",
      "w\n",
      "a\n",
      "y\n",
      "s\n",
      " \n",
      "q\n",
      "u\n",
      "i\n",
      "c\n",
      "k\n",
      " \n",
      "a\n",
      "n\n",
      "d\n",
      " \n",
      "f\n",
      "r\n",
      "i\n",
      "e\n",
      "n\n",
      "d\n",
      "l\n",
      "y\n",
      " \n",
      "c\n",
      "h\n",
      "e\n",
      "c\n",
      "k\n",
      " \n",
      "o\n",
      "u\n",
      "t\n",
      ".\n",
      " \n",
      " \n",
      "P\n",
      "r\n",
      "o\n",
      "d\n",
      "u\n",
      "c\n",
      "e\n",
      " \n",
      "n\n",
      "o\n",
      "t\n",
      " \n",
      "a\n",
      "s\n",
      " \n",
      "s\n",
      "t\n",
      "e\n",
      "l\n",
      "l\n",
      "a\n",
      "r\n",
      " \n",
      "a\n",
      "s\n",
      " \n",
      "i\n",
      "t\n",
      " \n",
      "o\n",
      "n\n",
      "c\n",
      "e\n",
      " \n",
      "w\n",
      "a\n",
      "s\n",
      ",\n",
      " \n",
      "b\n",
      "u\n",
      "t\n",
      " \n",
      "a\n",
      "l\n",
      "s\n",
      "o\n",
      " \n",
      "n\n",
      "o\n",
      "t\n",
      " \n",
      "f\n",
      "i\n",
      "n\n",
      "d\n",
      "i\n",
      "n\n",
      "g\n",
      " \n",
      "b\n",
      "e\n",
      "t\n",
      "t\n",
      "e\n",
      "r\n",
      " \n",
      "i\n",
      "n\n",
      " \n",
      "M\n",
      "a\n",
      "d\n",
      "i\n",
      "s\n",
      "o\n",
      "n\n",
      ".\n"
     ]
    }
   ],
   "source": [
    "for i in s:\n",
    "    print(i)"
   ]
  },
  {
   "cell_type": "markdown",
   "id": "2c9f9ba0",
   "metadata": {},
   "source": [
    "for 루프를 사용해서 나타내 보았다. 특수문자,부호를 제거하고, 글자를 붙이기 위해 다음의 과정을 실행한다."
   ]
  },
  {
   "cell_type": "code",
   "execution_count": 28,
   "id": "2cb534a3",
   "metadata": {},
   "outputs": [],
   "source": [
    "new_s = []\n",
    "for i in s:\n",
    "        if i not in string.punctuation:\n",
    "            new_s.append(i)"
   ]
  },
  {
   "cell_type": "code",
   "execution_count": 29,
   "id": "30b6c1e5",
   "metadata": {},
   "outputs": [
    {
     "data": {
      "text/plain": [
       "['L',\n",
       " 'O',\n",
       " 'V',\n",
       " 'E',\n",
       " ' ',\n",
       " 't',\n",
       " 'h',\n",
       " 'e',\n",
       " ' ',\n",
       " 'c',\n",
       " 'h',\n",
       " 'e',\n",
       " 'e',\n",
       " 's',\n",
       " 'e',\n",
       " 's',\n",
       " ' ',\n",
       " 'h',\n",
       " 'e',\n",
       " 'r',\n",
       " 'e',\n",
       " ' ',\n",
       " ' ',\n",
       " 'T',\n",
       " 'h',\n",
       " 'e',\n",
       " 'y',\n",
       " ' ',\n",
       " 'a',\n",
       " 'r',\n",
       " 'e',\n",
       " ' ',\n",
       " 'w',\n",
       " 'o',\n",
       " 'r',\n",
       " 't',\n",
       " 'h',\n",
       " ' ',\n",
       " 't',\n",
       " 'h',\n",
       " 'e',\n",
       " ' ',\n",
       " 'p',\n",
       " 'r',\n",
       " 'i',\n",
       " 'c',\n",
       " 'e',\n",
       " ' ',\n",
       " ' ',\n",
       " 'G',\n",
       " 'r',\n",
       " 'e',\n",
       " 'a',\n",
       " 't',\n",
       " ' ',\n",
       " 'f',\n",
       " 'o',\n",
       " 'r',\n",
       " ' ',\n",
       " 'f',\n",
       " 'i',\n",
       " 'n',\n",
       " 'd',\n",
       " 'i',\n",
       " 'n',\n",
       " 'g',\n",
       " ' ',\n",
       " 't',\n",
       " 'r',\n",
       " 'e',\n",
       " 'a',\n",
       " 't',\n",
       " 's',\n",
       " ' ',\n",
       " 'f',\n",
       " 'o',\n",
       " 'r',\n",
       " ' ',\n",
       " 'a',\n",
       " ' ',\n",
       " 's',\n",
       " 'p',\n",
       " 'e',\n",
       " 'c',\n",
       " 'i',\n",
       " 'a',\n",
       " 'l',\n",
       " ' ',\n",
       " 'd',\n",
       " 'i',\n",
       " 'n',\n",
       " 'n',\n",
       " 'e',\n",
       " 'r',\n",
       " ' ',\n",
       " 'o',\n",
       " 'r',\n",
       " ' ',\n",
       " 'p',\n",
       " 'i',\n",
       " 'c',\n",
       " 'n',\n",
       " 'i',\n",
       " 'c',\n",
       " ' ',\n",
       " ' ',\n",
       " 'N',\n",
       " 'i',\n",
       " 'c',\n",
       " 'e',\n",
       " ' ',\n",
       " 'o',\n",
       " 'n',\n",
       " ' ',\n",
       " 's',\n",
       " 'a',\n",
       " 'm',\n",
       " 'p',\n",
       " 'l',\n",
       " 'e',\n",
       " ' ',\n",
       " 'd',\n",
       " 'a',\n",
       " 'y',\n",
       " 's',\n",
       " ' ',\n",
       " 'Y',\n",
       " 'u',\n",
       " 'm',\n",
       " ' ',\n",
       " 'T',\n",
       " 'o',\n",
       " 'p',\n",
       " ' ',\n",
       " 'q',\n",
       " 'u',\n",
       " 'a',\n",
       " 'l',\n",
       " 'i',\n",
       " 't',\n",
       " 'y',\n",
       " ' ',\n",
       " 'm',\n",
       " 'e',\n",
       " 'a',\n",
       " 't',\n",
       " 's',\n",
       " ' ',\n",
       " 'N',\n",
       " 'i',\n",
       " 'c',\n",
       " 'e',\n",
       " ' ',\n",
       " 's',\n",
       " 'e',\n",
       " 'l',\n",
       " 'e',\n",
       " 'c',\n",
       " 't',\n",
       " 'i',\n",
       " 'o',\n",
       " 'n',\n",
       " ' ',\n",
       " 'o',\n",
       " 'f',\n",
       " ' ',\n",
       " 'n',\n",
       " 'o',\n",
       " 'n',\n",
       " ' ',\n",
       " 'b',\n",
       " 'r',\n",
       " 'a',\n",
       " 'n',\n",
       " 'd',\n",
       " ' ',\n",
       " 'f',\n",
       " 'r',\n",
       " 'o',\n",
       " 'z',\n",
       " 'e',\n",
       " 'n',\n",
       " ' ',\n",
       " 'v',\n",
       " 'e',\n",
       " 'g',\n",
       " 'g',\n",
       " 'i',\n",
       " 'e',\n",
       " 's',\n",
       " ' ',\n",
       " ' ',\n",
       " 'V',\n",
       " 'e',\n",
       " 'g',\n",
       " 'g',\n",
       " 'i',\n",
       " 'e',\n",
       " ' ',\n",
       " 'c',\n",
       " 'h',\n",
       " 'i',\n",
       " 'p',\n",
       " 's',\n",
       " ' ',\n",
       " 'a',\n",
       " 'r',\n",
       " 'e',\n",
       " ' ',\n",
       " 'm',\n",
       " 'e',\n",
       " 'g',\n",
       " 'a',\n",
       " ' ',\n",
       " 't',\n",
       " 'a',\n",
       " 's',\n",
       " 't',\n",
       " 'y',\n",
       " ' ',\n",
       " ' ',\n",
       " 'A',\n",
       " 'l',\n",
       " 'w',\n",
       " 'a',\n",
       " 'y',\n",
       " 's',\n",
       " ' ',\n",
       " 'q',\n",
       " 'u',\n",
       " 'i',\n",
       " 'c',\n",
       " 'k',\n",
       " ' ',\n",
       " 'a',\n",
       " 'n',\n",
       " 'd',\n",
       " ' ',\n",
       " 'f',\n",
       " 'r',\n",
       " 'i',\n",
       " 'e',\n",
       " 'n',\n",
       " 'd',\n",
       " 'l',\n",
       " 'y',\n",
       " ' ',\n",
       " 'c',\n",
       " 'h',\n",
       " 'e',\n",
       " 'c',\n",
       " 'k',\n",
       " ' ',\n",
       " 'o',\n",
       " 'u',\n",
       " 't',\n",
       " ' ',\n",
       " ' ',\n",
       " 'P',\n",
       " 'r',\n",
       " 'o',\n",
       " 'd',\n",
       " 'u',\n",
       " 'c',\n",
       " 'e',\n",
       " ' ',\n",
       " 'n',\n",
       " 'o',\n",
       " 't',\n",
       " ' ',\n",
       " 'a',\n",
       " 's',\n",
       " ' ',\n",
       " 's',\n",
       " 't',\n",
       " 'e',\n",
       " 'l',\n",
       " 'l',\n",
       " 'a',\n",
       " 'r',\n",
       " ' ',\n",
       " 'a',\n",
       " 's',\n",
       " ' ',\n",
       " 'i',\n",
       " 't',\n",
       " ' ',\n",
       " 'o',\n",
       " 'n',\n",
       " 'c',\n",
       " 'e',\n",
       " ' ',\n",
       " 'w',\n",
       " 'a',\n",
       " 's',\n",
       " ' ',\n",
       " 'b',\n",
       " 'u',\n",
       " 't',\n",
       " ' ',\n",
       " 'a',\n",
       " 'l',\n",
       " 's',\n",
       " 'o',\n",
       " ' ',\n",
       " 'n',\n",
       " 'o',\n",
       " 't',\n",
       " ' ',\n",
       " 'f',\n",
       " 'i',\n",
       " 'n',\n",
       " 'd',\n",
       " 'i',\n",
       " 'n',\n",
       " 'g',\n",
       " ' ',\n",
       " 'b',\n",
       " 'e',\n",
       " 't',\n",
       " 't',\n",
       " 'e',\n",
       " 'r',\n",
       " ' ',\n",
       " 'i',\n",
       " 'n',\n",
       " ' ',\n",
       " 'M',\n",
       " 'a',\n",
       " 'd',\n",
       " 'i',\n",
       " 's',\n",
       " 'o',\n",
       " 'n']"
      ]
     },
     "execution_count": 29,
     "metadata": {},
     "output_type": "execute_result"
    }
   ],
   "source": [
    "new_s"
   ]
  },
  {
   "cell_type": "code",
   "execution_count": 30,
   "id": "f8573ed0",
   "metadata": {
    "scrolled": true
   },
   "outputs": [
    {
     "data": {
      "text/plain": [
       "'LOVE the cheeses here  They are worth the price  Great for finding treats for a special dinner or picnic  Nice on sample days Yum Top quality meats Nice selection of non brand frozen veggies  Veggie chips are mega tasty  Always quick and friendly check out  Produce not as stellar as it once was but also not finding better in Madison'"
      ]
     },
     "execution_count": 30,
     "metadata": {},
     "output_type": "execute_result"
    }
   ],
   "source": [
    "''.join(new_s)"
   ]
  },
  {
   "cell_type": "markdown",
   "id": "b34bb12e",
   "metadata": {},
   "source": [
    "위 과정을 펑션으로 만들어 놓자."
   ]
  },
  {
   "cell_type": "code",
   "execution_count": 31,
   "id": "2369d024",
   "metadata": {},
   "outputs": [],
   "source": [
    "# 펑션으로 만들기\n",
    "def remove_punc(x):\n",
    "    new_s = []\n",
    "    for i in x:\n",
    "        if i not in string.punctuation:\n",
    "            new_s.append(i)\n",
    "    new_s = ''.join(new_s)\n",
    "    return new_s"
   ]
  },
  {
   "cell_type": "code",
   "execution_count": 32,
   "id": "ac7d2acd",
   "metadata": {},
   "outputs": [
    {
     "data": {
      "text/plain": [
       "2967245    LOVE the cheeses here  They are worth the pric...\n",
       "4773684    This has become our goto sushi place The sushi...\n",
       "1139855    I was very disappointed with the hotel The res...\n",
       "3997153    Love this place  super amazing  staff here is ...\n",
       "4262000    Thank you Dana Having dyed my hair black previ...\n",
       "                                 ...                        \n",
       "1567641    Im a sucker for places like this Get me in fro...\n",
       "4910763    Extremely rude staff  Was told 4 min on a larg...\n",
       "1036315    I live in NYC and went to the RTR here in the ...\n",
       "555962     If you are looking for a trainer then look no ...\n",
       "838267     Awesome food Awesome beer Awesome service Need...\n",
       "Name: text, Length: 10000, dtype: object"
      ]
     },
     "execution_count": 32,
     "metadata": {},
     "output_type": "execute_result"
    }
   ],
   "source": [
    "data['text'].apply(remove_punc)"
   ]
  },
  {
   "cell_type": "markdown",
   "id": "0e1a8f3b",
   "metadata": {},
   "source": [
    "한 줄로 할 수 있는 방법도 알아보겠다. (펑션만드는 방법 말고)"
   ]
  },
  {
   "cell_type": "code",
   "execution_count": 33,
   "id": "98049e6e",
   "metadata": {},
   "outputs": [
    {
     "data": {
      "text/plain": [
       "'LOVE the cheeses here  They are worth the price  Great for finding treats for a special dinner or picnic  Nice on sample days Yum Top quality meats Nice selection of non brand frozen veggies  Veggie chips are mega tasty  Always quick and friendly check out  Produce not as stellar as it once was but also not finding better in Madison'"
      ]
     },
     "execution_count": 33,
     "metadata": {},
     "output_type": "execute_result"
    }
   ],
   "source": [
    "''.join([i for i in s if i not in string.punctuation])"
   ]
  },
  {
   "cell_type": "markdown",
   "id": "5b9bf503",
   "metadata": {},
   "source": [
    "데이터 프레임 전체에 하기 위해서는 다음의 방법을 적용한다."
   ]
  },
  {
   "cell_type": "code",
   "execution_count": 34,
   "id": "ad2bda27",
   "metadata": {},
   "outputs": [
    {
     "data": {
      "text/plain": [
       "2967245    LOVE the cheeses here  They are worth the pric...\n",
       "4773684    LOVE the cheeses here  They are worth the pric...\n",
       "1139855    LOVE the cheeses here  They are worth the pric...\n",
       "3997153    LOVE the cheeses here  They are worth the pric...\n",
       "4262000    LOVE the cheeses here  They are worth the pric...\n",
       "                                 ...                        \n",
       "1567641    LOVE the cheeses here  They are worth the pric...\n",
       "4910763    LOVE the cheeses here  They are worth the pric...\n",
       "1036315    LOVE the cheeses here  They are worth the pric...\n",
       "555962     LOVE the cheeses here  They are worth the pric...\n",
       "838267     LOVE the cheeses here  They are worth the pric...\n",
       "Name: text, Length: 10000, dtype: object"
      ]
     },
     "execution_count": 34,
     "metadata": {},
     "output_type": "execute_result"
    }
   ],
   "source": [
    "data['text'].apply(lambda x: ''.join([i for i in s if i not in string.punctuation]))"
   ]
  },
  {
   "cell_type": "markdown",
   "id": "21365124",
   "metadata": {},
   "source": [
    "할당해주기"
   ]
  },
  {
   "cell_type": "code",
   "execution_count": 35,
   "id": "2da6f5e1",
   "metadata": {},
   "outputs": [],
   "source": [
    "data['text'] = data['text'].apply(lambda x: ''.join([i for i in s if i not in string.punctuation]))"
   ]
  },
  {
   "cell_type": "code",
   "execution_count": 36,
   "id": "e7e31544",
   "metadata": {},
   "outputs": [
    {
     "data": {
      "text/html": [
       "<div>\n",
       "<style scoped>\n",
       "    .dataframe tbody tr th:only-of-type {\n",
       "        vertical-align: middle;\n",
       "    }\n",
       "\n",
       "    .dataframe tbody tr th {\n",
       "        vertical-align: top;\n",
       "    }\n",
       "\n",
       "    .dataframe thead th {\n",
       "        text-align: right;\n",
       "    }\n",
       "</style>\n",
       "<table border=\"1\" class=\"dataframe\">\n",
       "  <thead>\n",
       "    <tr style=\"text-align: right;\">\n",
       "      <th></th>\n",
       "      <th>stars</th>\n",
       "      <th>text</th>\n",
       "      <th>useful</th>\n",
       "      <th>funny</th>\n",
       "      <th>cool</th>\n",
       "      <th>text_length</th>\n",
       "    </tr>\n",
       "  </thead>\n",
       "  <tbody>\n",
       "    <tr>\n",
       "      <th>2967245</th>\n",
       "      <td>5</td>\n",
       "      <td>LOVE the cheeses here  They are worth the pric...</td>\n",
       "      <td>0</td>\n",
       "      <td>0</td>\n",
       "      <td>1</td>\n",
       "      <td>347</td>\n",
       "    </tr>\n",
       "    <tr>\n",
       "      <th>4773684</th>\n",
       "      <td>5</td>\n",
       "      <td>LOVE the cheeses here  They are worth the pric...</td>\n",
       "      <td>0</td>\n",
       "      <td>0</td>\n",
       "      <td>0</td>\n",
       "      <td>377</td>\n",
       "    </tr>\n",
       "    <tr>\n",
       "      <th>1139855</th>\n",
       "      <td>1</td>\n",
       "      <td>LOVE the cheeses here  They are worth the pric...</td>\n",
       "      <td>2</td>\n",
       "      <td>1</td>\n",
       "      <td>1</td>\n",
       "      <td>663</td>\n",
       "    </tr>\n",
       "    <tr>\n",
       "      <th>3997153</th>\n",
       "      <td>5</td>\n",
       "      <td>LOVE the cheeses here  They are worth the pric...</td>\n",
       "      <td>0</td>\n",
       "      <td>0</td>\n",
       "      <td>0</td>\n",
       "      <td>141</td>\n",
       "    </tr>\n",
       "    <tr>\n",
       "      <th>4262000</th>\n",
       "      <td>5</td>\n",
       "      <td>LOVE the cheeses here  They are worth the pric...</td>\n",
       "      <td>0</td>\n",
       "      <td>0</td>\n",
       "      <td>0</td>\n",
       "      <td>455</td>\n",
       "    </tr>\n",
       "  </tbody>\n",
       "</table>\n",
       "</div>"
      ],
      "text/plain": [
       "         stars                                               text  useful  \\\n",
       "2967245      5  LOVE the cheeses here  They are worth the pric...       0   \n",
       "4773684      5  LOVE the cheeses here  They are worth the pric...       0   \n",
       "1139855      1  LOVE the cheeses here  They are worth the pric...       2   \n",
       "3997153      5  LOVE the cheeses here  They are worth the pric...       0   \n",
       "4262000      5  LOVE the cheeses here  They are worth the pric...       0   \n",
       "\n",
       "         funny  cool  text_length  \n",
       "2967245      0     1          347  \n",
       "4773684      0     0          377  \n",
       "1139855      1     1          663  \n",
       "3997153      0     0          141  \n",
       "4262000      0     0          455  "
      ]
     },
     "execution_count": 36,
     "metadata": {},
     "output_type": "execute_result"
    }
   ],
   "source": [
    "data.head()"
   ]
  },
  {
   "cell_type": "markdown",
   "id": "b9838346",
   "metadata": {},
   "source": [
    "이 과정을 함으로써 text 컬럼에서 불필요한 기호는 drop된 모습을 확인 할 수 있다."
   ]
  },
  {
   "cell_type": "code",
   "execution_count": 37,
   "id": "e35e43f3",
   "metadata": {},
   "outputs": [],
   "source": [
    "from nltk.corpus import stopwords"
   ]
  },
  {
   "cell_type": "code",
   "execution_count": 38,
   "id": "8772e652",
   "metadata": {},
   "outputs": [
    {
     "name": "stderr",
     "output_type": "stream",
     "text": [
      "[nltk_data] Downloading package stopwords to /home/ubuntu/nltk_data...\n",
      "[nltk_data]   Package stopwords is already up-to-date!\n"
     ]
    },
    {
     "data": {
      "text/plain": [
       "True"
      ]
     },
     "execution_count": 38,
     "metadata": {},
     "output_type": "execute_result"
    }
   ],
   "source": [
    "import nltk\n",
    "nltk.download('stopwords')"
   ]
  },
  {
   "cell_type": "code",
   "execution_count": 39,
   "id": "a2d9c488",
   "metadata": {},
   "outputs": [
    {
     "data": {
      "text/plain": [
       "['i',\n",
       " 'me',\n",
       " 'my',\n",
       " 'myself',\n",
       " 'we',\n",
       " 'our',\n",
       " 'ours',\n",
       " 'ourselves',\n",
       " 'you',\n",
       " \"you're\",\n",
       " \"you've\",\n",
       " \"you'll\",\n",
       " \"you'd\",\n",
       " 'your',\n",
       " 'yours',\n",
       " 'yourself',\n",
       " 'yourselves',\n",
       " 'he',\n",
       " 'him',\n",
       " 'his',\n",
       " 'himself',\n",
       " 'she',\n",
       " \"she's\",\n",
       " 'her',\n",
       " 'hers',\n",
       " 'herself',\n",
       " 'it',\n",
       " \"it's\",\n",
       " 'its',\n",
       " 'itself',\n",
       " 'they',\n",
       " 'them',\n",
       " 'their',\n",
       " 'theirs',\n",
       " 'themselves',\n",
       " 'what',\n",
       " 'which',\n",
       " 'who',\n",
       " 'whom',\n",
       " 'this',\n",
       " 'that',\n",
       " \"that'll\",\n",
       " 'these',\n",
       " 'those',\n",
       " 'am',\n",
       " 'is',\n",
       " 'are',\n",
       " 'was',\n",
       " 'were',\n",
       " 'be',\n",
       " 'been',\n",
       " 'being',\n",
       " 'have',\n",
       " 'has',\n",
       " 'had',\n",
       " 'having',\n",
       " 'do',\n",
       " 'does',\n",
       " 'did',\n",
       " 'doing',\n",
       " 'a',\n",
       " 'an',\n",
       " 'the',\n",
       " 'and',\n",
       " 'but',\n",
       " 'if',\n",
       " 'or',\n",
       " 'because',\n",
       " 'as',\n",
       " 'until',\n",
       " 'while',\n",
       " 'of',\n",
       " 'at',\n",
       " 'by',\n",
       " 'for',\n",
       " 'with',\n",
       " 'about',\n",
       " 'against',\n",
       " 'between',\n",
       " 'into',\n",
       " 'through',\n",
       " 'during',\n",
       " 'before',\n",
       " 'after',\n",
       " 'above',\n",
       " 'below',\n",
       " 'to',\n",
       " 'from',\n",
       " 'up',\n",
       " 'down',\n",
       " 'in',\n",
       " 'out',\n",
       " 'on',\n",
       " 'off',\n",
       " 'over',\n",
       " 'under',\n",
       " 'again',\n",
       " 'further',\n",
       " 'then',\n",
       " 'once',\n",
       " 'here',\n",
       " 'there',\n",
       " 'when',\n",
       " 'where',\n",
       " 'why',\n",
       " 'how',\n",
       " 'all',\n",
       " 'any',\n",
       " 'both',\n",
       " 'each',\n",
       " 'few',\n",
       " 'more',\n",
       " 'most',\n",
       " 'other',\n",
       " 'some',\n",
       " 'such',\n",
       " 'no',\n",
       " 'nor',\n",
       " 'not',\n",
       " 'only',\n",
       " 'own',\n",
       " 'same',\n",
       " 'so',\n",
       " 'than',\n",
       " 'too',\n",
       " 'very',\n",
       " 's',\n",
       " 't',\n",
       " 'can',\n",
       " 'will',\n",
       " 'just',\n",
       " 'don',\n",
       " \"don't\",\n",
       " 'should',\n",
       " \"should've\",\n",
       " 'now',\n",
       " 'd',\n",
       " 'll',\n",
       " 'm',\n",
       " 'o',\n",
       " 're',\n",
       " 've',\n",
       " 'y',\n",
       " 'ain',\n",
       " 'aren',\n",
       " \"aren't\",\n",
       " 'couldn',\n",
       " \"couldn't\",\n",
       " 'didn',\n",
       " \"didn't\",\n",
       " 'doesn',\n",
       " \"doesn't\",\n",
       " 'hadn',\n",
       " \"hadn't\",\n",
       " 'hasn',\n",
       " \"hasn't\",\n",
       " 'haven',\n",
       " \"haven't\",\n",
       " 'isn',\n",
       " \"isn't\",\n",
       " 'ma',\n",
       " 'mightn',\n",
       " \"mightn't\",\n",
       " 'mustn',\n",
       " \"mustn't\",\n",
       " 'needn',\n",
       " \"needn't\",\n",
       " 'shan',\n",
       " \"shan't\",\n",
       " 'shouldn',\n",
       " \"shouldn't\",\n",
       " 'wasn',\n",
       " \"wasn't\",\n",
       " 'weren',\n",
       " \"weren't\",\n",
       " 'won',\n",
       " \"won't\",\n",
       " 'wouldn',\n",
       " \"wouldn't\"]"
      ]
     },
     "execution_count": 39,
     "metadata": {},
     "output_type": "execute_result"
    }
   ],
   "source": [
    "stopwords.words('english')"
   ]
  },
  {
   "cell_type": "code",
   "execution_count": 40,
   "id": "16c82c84",
   "metadata": {},
   "outputs": [
    {
     "data": {
      "text/plain": [
       "2967245    LOVE the cheeses here  They are worth the pric...\n",
       "4773684    LOVE the cheeses here  They are worth the pric...\n",
       "1139855    LOVE the cheeses here  They are worth the pric...\n",
       "3997153    LOVE the cheeses here  They are worth the pric...\n",
       "4262000    LOVE the cheeses here  They are worth the pric...\n",
       "                                 ...                        \n",
       "1567641    LOVE the cheeses here  They are worth the pric...\n",
       "4910763    LOVE the cheeses here  They are worth the pric...\n",
       "1036315    LOVE the cheeses here  They are worth the pric...\n",
       "555962     LOVE the cheeses here  They are worth the pric...\n",
       "838267     LOVE the cheeses here  They are worth the pric...\n",
       "Name: text, Length: 10000, dtype: object"
      ]
     },
     "execution_count": 40,
     "metadata": {},
     "output_type": "execute_result"
    }
   ],
   "source": [
    "data['text']"
   ]
  },
  {
   "cell_type": "code",
   "execution_count": 41,
   "id": "3dcdb03e",
   "metadata": {},
   "outputs": [
    {
     "data": {
      "text/plain": [
       "['LOVE',\n",
       " 'the',\n",
       " 'cheeses',\n",
       " 'here.',\n",
       " 'They',\n",
       " 'are',\n",
       " 'worth',\n",
       " 'the',\n",
       " 'price.',\n",
       " 'Great',\n",
       " 'for',\n",
       " 'finding',\n",
       " 'treats',\n",
       " 'for',\n",
       " 'a',\n",
       " 'special',\n",
       " 'dinner',\n",
       " 'or',\n",
       " 'picnic.',\n",
       " 'Nice',\n",
       " 'on',\n",
       " 'sample',\n",
       " 'days.',\n",
       " 'Yum!!!',\n",
       " 'Top',\n",
       " 'quality',\n",
       " 'meats.',\n",
       " 'Nice',\n",
       " 'selection',\n",
       " 'of',\n",
       " 'non',\n",
       " 'brand',\n",
       " 'frozen',\n",
       " 'veggies.',\n",
       " 'Veggie',\n",
       " 'chips',\n",
       " 'are',\n",
       " 'mega',\n",
       " 'tasty.',\n",
       " 'Always',\n",
       " 'quick',\n",
       " 'and',\n",
       " 'friendly',\n",
       " 'check',\n",
       " 'out.',\n",
       " 'Produce',\n",
       " 'not',\n",
       " 'as',\n",
       " 'stellar',\n",
       " 'as',\n",
       " 'it',\n",
       " 'once',\n",
       " 'was,',\n",
       " 'but',\n",
       " 'also',\n",
       " 'not',\n",
       " 'finding',\n",
       " 'better',\n",
       " 'in',\n",
       " 'Madison.']"
      ]
     },
     "execution_count": 41,
     "metadata": {},
     "output_type": "execute_result"
    }
   ],
   "source": [
    "s.split()  #띄어쓰기 기준으로 분류하기"
   ]
  },
  {
   "cell_type": "code",
   "execution_count": 42,
   "id": "889dab7e",
   "metadata": {},
   "outputs": [
    {
     "data": {
      "text/plain": [
       "'love the cheeses here.  they are worth the price.  great for finding treats for a special dinner or picnic.  nice on sample days. yum!!! top quality meats. nice selection of non brand frozen veggies.  veggie chips are mega tasty.  always quick and friendly check out.  produce not as stellar as it once was, but also not finding better in madison.'"
      ]
     },
     "execution_count": 42,
     "metadata": {},
     "output_type": "execute_result"
    }
   ],
   "source": [
    "s.lower() # 소문자로 나타내기"
   ]
  },
  {
   "cell_type": "markdown",
   "id": "a12cb53c",
   "metadata": {},
   "source": [
    "필터링하기"
   ]
  },
  {
   "cell_type": "code",
   "execution_count": 43,
   "id": "e415879b",
   "metadata": {},
   "outputs": [],
   "source": [
    "def stop_w(x):\n",
    "    \n",
    "\n",
    "    new_s = []\n",
    "\n",
    "    for i in s.split():\n",
    "        if i.lower() not in stopwords.words('english'):\n",
    "            new_s.append(i.lower())\n",
    "    return new_s"
   ]
  },
  {
   "cell_type": "code",
   "execution_count": 44,
   "id": "8c70cae1",
   "metadata": {},
   "outputs": [
    {
     "data": {
      "text/plain": [
       "2967245    [love, cheeses, here., worth, price., great, f...\n",
       "4773684    [love, cheeses, here., worth, price., great, f...\n",
       "1139855    [love, cheeses, here., worth, price., great, f...\n",
       "3997153    [love, cheeses, here., worth, price., great, f...\n",
       "4262000    [love, cheeses, here., worth, price., great, f...\n",
       "                                 ...                        \n",
       "1567641    [love, cheeses, here., worth, price., great, f...\n",
       "4910763    [love, cheeses, here., worth, price., great, f...\n",
       "1036315    [love, cheeses, here., worth, price., great, f...\n",
       "555962     [love, cheeses, here., worth, price., great, f...\n",
       "838267     [love, cheeses, here., worth, price., great, f...\n",
       "Name: text, Length: 10000, dtype: object"
      ]
     },
     "execution_count": 44,
     "metadata": {},
     "output_type": "execute_result"
    }
   ],
   "source": [
    "data['text'].apply(stop_w)"
   ]
  },
  {
   "cell_type": "code",
   "execution_count": 45,
   "id": "b5969952",
   "metadata": {},
   "outputs": [
    {
     "data": {
      "text/plain": [
       "['love',\n",
       " 'cheeses',\n",
       " 'here.',\n",
       " 'worth',\n",
       " 'price.',\n",
       " 'great',\n",
       " 'finding',\n",
       " 'treats',\n",
       " 'special',\n",
       " 'dinner',\n",
       " 'picnic.',\n",
       " 'nice',\n",
       " 'sample',\n",
       " 'days.',\n",
       " 'yum!!!',\n",
       " 'top',\n",
       " 'quality',\n",
       " 'meats.',\n",
       " 'nice',\n",
       " 'selection',\n",
       " 'non',\n",
       " 'brand',\n",
       " 'frozen',\n",
       " 'veggies.',\n",
       " 'veggie',\n",
       " 'chips',\n",
       " 'mega',\n",
       " 'tasty.',\n",
       " 'always',\n",
       " 'quick',\n",
       " 'friendly',\n",
       " 'check',\n",
       " 'out.',\n",
       " 'produce',\n",
       " 'stellar',\n",
       " 'was,',\n",
       " 'also',\n",
       " 'finding',\n",
       " 'better',\n",
       " 'madison.']"
      ]
     },
     "execution_count": 45,
     "metadata": {},
     "output_type": "execute_result"
    }
   ],
   "source": [
    "[i.lower() for i in s.split() if i.lower() not in stopwords.words('english')]"
   ]
  },
  {
   "cell_type": "markdown",
   "id": "4f472919",
   "metadata": {},
   "source": [
    "리스트 안에 우리가 필요한 단어들만 정리가 된 모습을 확인 할 수 있다."
   ]
  },
  {
   "cell_type": "code",
   "execution_count": 46,
   "id": "fce1f62c",
   "metadata": {},
   "outputs": [],
   "source": [
    "# data['text']로 할당하기\n",
    "\n",
    "data['text'] = data['text'].apply(lambda x:[i.lower() for i in x.split() if i.lower() not in stopwords.words('english')] )"
   ]
  },
  {
   "cell_type": "code",
   "execution_count": 47,
   "id": "e3236e78",
   "metadata": {},
   "outputs": [
    {
     "data": {
      "text/html": [
       "<div>\n",
       "<style scoped>\n",
       "    .dataframe tbody tr th:only-of-type {\n",
       "        vertical-align: middle;\n",
       "    }\n",
       "\n",
       "    .dataframe tbody tr th {\n",
       "        vertical-align: top;\n",
       "    }\n",
       "\n",
       "    .dataframe thead th {\n",
       "        text-align: right;\n",
       "    }\n",
       "</style>\n",
       "<table border=\"1\" class=\"dataframe\">\n",
       "  <thead>\n",
       "    <tr style=\"text-align: right;\">\n",
       "      <th></th>\n",
       "      <th>stars</th>\n",
       "      <th>text</th>\n",
       "      <th>useful</th>\n",
       "      <th>funny</th>\n",
       "      <th>cool</th>\n",
       "      <th>text_length</th>\n",
       "    </tr>\n",
       "  </thead>\n",
       "  <tbody>\n",
       "    <tr>\n",
       "      <th>2967245</th>\n",
       "      <td>5</td>\n",
       "      <td>[love, cheeses, worth, price, great, finding, ...</td>\n",
       "      <td>0</td>\n",
       "      <td>0</td>\n",
       "      <td>1</td>\n",
       "      <td>347</td>\n",
       "    </tr>\n",
       "    <tr>\n",
       "      <th>4773684</th>\n",
       "      <td>5</td>\n",
       "      <td>[love, cheeses, worth, price, great, finding, ...</td>\n",
       "      <td>0</td>\n",
       "      <td>0</td>\n",
       "      <td>0</td>\n",
       "      <td>377</td>\n",
       "    </tr>\n",
       "    <tr>\n",
       "      <th>1139855</th>\n",
       "      <td>1</td>\n",
       "      <td>[love, cheeses, worth, price, great, finding, ...</td>\n",
       "      <td>2</td>\n",
       "      <td>1</td>\n",
       "      <td>1</td>\n",
       "      <td>663</td>\n",
       "    </tr>\n",
       "    <tr>\n",
       "      <th>3997153</th>\n",
       "      <td>5</td>\n",
       "      <td>[love, cheeses, worth, price, great, finding, ...</td>\n",
       "      <td>0</td>\n",
       "      <td>0</td>\n",
       "      <td>0</td>\n",
       "      <td>141</td>\n",
       "    </tr>\n",
       "    <tr>\n",
       "      <th>4262000</th>\n",
       "      <td>5</td>\n",
       "      <td>[love, cheeses, worth, price, great, finding, ...</td>\n",
       "      <td>0</td>\n",
       "      <td>0</td>\n",
       "      <td>0</td>\n",
       "      <td>455</td>\n",
       "    </tr>\n",
       "  </tbody>\n",
       "</table>\n",
       "</div>"
      ],
      "text/plain": [
       "         stars                                               text  useful  \\\n",
       "2967245      5  [love, cheeses, worth, price, great, finding, ...       0   \n",
       "4773684      5  [love, cheeses, worth, price, great, finding, ...       0   \n",
       "1139855      1  [love, cheeses, worth, price, great, finding, ...       2   \n",
       "3997153      5  [love, cheeses, worth, price, great, finding, ...       0   \n",
       "4262000      5  [love, cheeses, worth, price, great, finding, ...       0   \n",
       "\n",
       "         funny  cool  text_length  \n",
       "2967245      0     1          347  \n",
       "4773684      0     0          377  \n",
       "1139855      1     1          663  \n",
       "3997153      0     0          141  \n",
       "4262000      0     0          455  "
      ]
     },
     "execution_count": 47,
     "metadata": {},
     "output_type": "execute_result"
    }
   ],
   "source": [
    "data.head()"
   ]
  },
  {
   "cell_type": "markdown",
   "id": "33fc7934",
   "metadata": {},
   "source": [
    "text 컬럼에 원하는 대로 단어형태의 리스트로 들어옴을 확인 했다."
   ]
  },
  {
   "cell_type": "code",
   "execution_count": 48,
   "id": "4e033e1d",
   "metadata": {},
   "outputs": [],
   "source": [
    "# 이중 for문\n",
    "\n",
    "word_split = []\n",
    "\n",
    "for i in range(len(data)):\n",
    "    for j in data.iloc[i]['text']:\n",
    "        word_split.append(j)"
   ]
  },
  {
   "cell_type": "code",
   "execution_count": 49,
   "id": "50eef49d",
   "metadata": {},
   "outputs": [
    {
     "data": {
      "text/plain": [
       "370000"
      ]
     },
     "execution_count": 49,
     "metadata": {},
     "output_type": "execute_result"
    }
   ],
   "source": [
    "len(word_split)"
   ]
  },
  {
   "cell_type": "code",
   "execution_count": 50,
   "id": "2e263deb",
   "metadata": {},
   "outputs": [],
   "source": [
    "from nltk.probability import FreqDist"
   ]
  },
  {
   "cell_type": "code",
   "execution_count": 51,
   "id": "c75baaea",
   "metadata": {},
   "outputs": [
    {
     "data": {
      "image/png": "[encoded data removed]",
      "text/plain": [
       "<Figure size 1440x720 with 1 Axes>"
      ]
     },
     "metadata": {
      "needs_background": "light"
     },
     "output_type": "display_data"
    },
    {
     "data": {
      "text/plain": [
       "<AxesSubplot:xlabel='Samples', ylabel='Counts'>"
      ]
     },
     "execution_count": 51,
     "metadata": {},
     "output_type": "execute_result"
    }
   ],
   "source": [
    "plt.figure(figsize= (20,10))\n",
    "FreqDist(word_split).plot(50)"
   ]
  },
  {
   "cell_type": "markdown",
   "id": "1ff91e69",
   "metadata": {},
   "source": [
    "wordcloud 만들기"
   ]
  },
  {
   "cell_type": "code",
   "execution_count": 52,
   "id": "0aba1458",
   "metadata": {},
   "outputs": [],
   "source": [
    "#!pip3 install wordcloud"
   ]
  },
  {
   "cell_type": "code",
   "execution_count": 53,
   "id": "3819161d",
   "metadata": {},
   "outputs": [],
   "source": [
    "from wordcloud import WordCloud"
   ]
  },
  {
   "cell_type": "code",
   "execution_count": 57,
   "id": "b370a16b",
   "metadata": {},
   "outputs": [
    {
     "data": {
      "text/plain": [
       "(-0.5, 399.5, 199.5, -0.5)"
      ]
     },
     "execution_count": 57,
     "metadata": {},
     "output_type": "execute_result"
    },
    {
     "data": {
      "image/png": "[encoded data removed]",
      "text/plain": [
       "<Figure size 720x360 with 1 Axes>"
      ]
     },
     "metadata": {
      "needs_background": "light"
     },
     "output_type": "display_data"
    }
   ],
   "source": [
    "wc = WordCloud().generate(str(data['text']))\n",
    "plt.figure(figsize=(10,5))\n",
    "plt.imshow(wc)\n",
    "plt.axis('off') #  x 축 y축의 숫자는 지우기"
   ]
  },
  {
   "cell_type": "markdown",
   "id": "dbb2e0ac",
   "metadata": {},
   "source": [
    "여기에서, plot 와 wordcloud는 완벽하게 일치하지 않는다. 이유는 wordcloud 안에 내장되어있는 함수가 있어 또 걸러주기 때문이다."
   ]
  },
  {
   "cell_type": "code",
   "execution_count": 58,
   "id": "57bf4ce1",
   "metadata": {},
   "outputs": [
    {
     "data": {
      "text/plain": [
       "5    7532\n",
       "1    2468\n",
       "Name: stars, dtype: int64"
      ]
     },
     "execution_count": 58,
     "metadata": {},
     "output_type": "execute_result"
    }
   ],
   "source": [
    "data['stars'].value_counts()"
   ]
  },
  {
   "cell_type": "markdown",
   "id": "947625a4",
   "metadata": {},
   "source": [
    "이제 별점 5점 짜리와, 별점 1점짜리를 나누어서 wordcloud를 나누어서 만들어 보자."
   ]
  },
  {
   "cell_type": "code",
   "execution_count": 62,
   "id": "f96f47c9",
   "metadata": {},
   "outputs": [
    {
     "data": {
      "text/html": [
       "<div>\n",
       "<style scoped>\n",
       "    .dataframe tbody tr th:only-of-type {\n",
       "        vertical-align: middle;\n",
       "    }\n",
       "\n",
       "    .dataframe tbody tr th {\n",
       "        vertical-align: top;\n",
       "    }\n",
       "\n",
       "    .dataframe thead th {\n",
       "        text-align: right;\n",
       "    }\n",
       "</style>\n",
       "<table border=\"1\" class=\"dataframe\">\n",
       "  <thead>\n",
       "    <tr style=\"text-align: right;\">\n",
       "      <th></th>\n",
       "      <th>stars</th>\n",
       "      <th>text</th>\n",
       "      <th>useful</th>\n",
       "      <th>funny</th>\n",
       "      <th>cool</th>\n",
       "      <th>text_length</th>\n",
       "    </tr>\n",
       "  </thead>\n",
       "  <tbody>\n",
       "    <tr>\n",
       "      <th>2967245</th>\n",
       "      <td>5</td>\n",
       "      <td>[love, cheeses, worth, price, great, finding, ...</td>\n",
       "      <td>0</td>\n",
       "      <td>0</td>\n",
       "      <td>1</td>\n",
       "      <td>347</td>\n",
       "    </tr>\n",
       "    <tr>\n",
       "      <th>4773684</th>\n",
       "      <td>5</td>\n",
       "      <td>[love, cheeses, worth, price, great, finding, ...</td>\n",
       "      <td>0</td>\n",
       "      <td>0</td>\n",
       "      <td>0</td>\n",
       "      <td>377</td>\n",
       "    </tr>\n",
       "    <tr>\n",
       "      <th>3997153</th>\n",
       "      <td>5</td>\n",
       "      <td>[love, cheeses, worth, price, great, finding, ...</td>\n",
       "      <td>0</td>\n",
       "      <td>0</td>\n",
       "      <td>0</td>\n",
       "      <td>141</td>\n",
       "    </tr>\n",
       "    <tr>\n",
       "      <th>4262000</th>\n",
       "      <td>5</td>\n",
       "      <td>[love, cheeses, worth, price, great, finding, ...</td>\n",
       "      <td>0</td>\n",
       "      <td>0</td>\n",
       "      <td>0</td>\n",
       "      <td>455</td>\n",
       "    </tr>\n",
       "    <tr>\n",
       "      <th>1272104</th>\n",
       "      <td>5</td>\n",
       "      <td>[love, cheeses, worth, price, great, finding, ...</td>\n",
       "      <td>0</td>\n",
       "      <td>0</td>\n",
       "      <td>0</td>\n",
       "      <td>387</td>\n",
       "    </tr>\n",
       "    <tr>\n",
       "      <th>...</th>\n",
       "      <td>...</td>\n",
       "      <td>...</td>\n",
       "      <td>...</td>\n",
       "      <td>...</td>\n",
       "      <td>...</td>\n",
       "      <td>...</td>\n",
       "    </tr>\n",
       "    <tr>\n",
       "      <th>4415064</th>\n",
       "      <td>5</td>\n",
       "      <td>[love, cheeses, worth, price, great, finding, ...</td>\n",
       "      <td>0</td>\n",
       "      <td>0</td>\n",
       "      <td>0</td>\n",
       "      <td>143</td>\n",
       "    </tr>\n",
       "    <tr>\n",
       "      <th>1567641</th>\n",
       "      <td>5</td>\n",
       "      <td>[love, cheeses, worth, price, great, finding, ...</td>\n",
       "      <td>3</td>\n",
       "      <td>1</td>\n",
       "      <td>3</td>\n",
       "      <td>779</td>\n",
       "    </tr>\n",
       "    <tr>\n",
       "      <th>1036315</th>\n",
       "      <td>5</td>\n",
       "      <td>[love, cheeses, worth, price, great, finding, ...</td>\n",
       "      <td>1</td>\n",
       "      <td>0</td>\n",
       "      <td>0</td>\n",
       "      <td>1288</td>\n",
       "    </tr>\n",
       "    <tr>\n",
       "      <th>555962</th>\n",
       "      <td>5</td>\n",
       "      <td>[love, cheeses, worth, price, great, finding, ...</td>\n",
       "      <td>0</td>\n",
       "      <td>0</td>\n",
       "      <td>0</td>\n",
       "      <td>1160</td>\n",
       "    </tr>\n",
       "    <tr>\n",
       "      <th>838267</th>\n",
       "      <td>5</td>\n",
       "      <td>[love, cheeses, worth, price, great, finding, ...</td>\n",
       "      <td>0</td>\n",
       "      <td>0</td>\n",
       "      <td>1</td>\n",
       "      <td>137</td>\n",
       "    </tr>\n",
       "  </tbody>\n",
       "</table>\n",
       "<p>7532 rows × 6 columns</p>\n",
       "</div>"
      ],
      "text/plain": [
       "         stars                                               text  useful  \\\n",
       "2967245      5  [love, cheeses, worth, price, great, finding, ...       0   \n",
       "4773684      5  [love, cheeses, worth, price, great, finding, ...       0   \n",
       "3997153      5  [love, cheeses, worth, price, great, finding, ...       0   \n",
       "4262000      5  [love, cheeses, worth, price, great, finding, ...       0   \n",
       "1272104      5  [love, cheeses, worth, price, great, finding, ...       0   \n",
       "...        ...                                                ...     ...   \n",
       "4415064      5  [love, cheeses, worth, price, great, finding, ...       0   \n",
       "1567641      5  [love, cheeses, worth, price, great, finding, ...       3   \n",
       "1036315      5  [love, cheeses, worth, price, great, finding, ...       1   \n",
       "555962       5  [love, cheeses, worth, price, great, finding, ...       0   \n",
       "838267       5  [love, cheeses, worth, price, great, finding, ...       0   \n",
       "\n",
       "         funny  cool  text_length  \n",
       "2967245      0     1          347  \n",
       "4773684      0     0          377  \n",
       "3997153      0     0          141  \n",
       "4262000      0     0          455  \n",
       "1272104      0     0          387  \n",
       "...        ...   ...          ...  \n",
       "4415064      0     0          143  \n",
       "1567641      1     3          779  \n",
       "1036315      0     0         1288  \n",
       "555962       0     0         1160  \n",
       "838267       0     1          137  \n",
       "\n",
       "[7532 rows x 6 columns]"
      ]
     },
     "execution_count": 62,
     "metadata": {},
     "output_type": "execute_result"
    }
   ],
   "source": [
    "data[data['stars'] == 5]"
   ]
  },
  {
   "cell_type": "code",
   "execution_count": 66,
   "id": "c5e28d9e",
   "metadata": {},
   "outputs": [],
   "source": [
    "good = data[data['stars'] == 5]['text']  # 별점 5점짜리만 필터링해서 나타내기\n",
    "bad = data[data['stars'] == 1]['text'] # 별점 1점짜리만 필터링해서 나타내기"
   ]
  },
  {
   "cell_type": "code",
   "execution_count": 69,
   "id": "ffb23af7",
   "metadata": {},
   "outputs": [
    {
     "data": {
      "text/plain": [
       "(-0.5, 399.5, 199.5, -0.5)"
      ]
     },
     "execution_count": 69,
     "metadata": {},
     "output_type": "execute_result"
    },
    {
     "data": {
      "image/png": "[encoded data removed]",
      "text/plain": [
       "<Figure size 720x360 with 1 Axes>"
      ]
     },
     "metadata": {
      "needs_background": "light"
     },
     "output_type": "display_data"
    }
   ],
   "source": [
    "# 별점 5점짜리 wordcloud\n",
    "wc = WordCloud().generate(str(good))\n",
    "plt.figure(figsize=(10,5))\n",
    "plt.imshow(wc)\n",
    "plt.axis('off') #  x 축 y축의 숫자는 지우기"
   ]
  },
  {
   "cell_type": "code",
   "execution_count": 70,
   "id": "190b917e",
   "metadata": {},
   "outputs": [
    {
     "data": {
      "text/plain": [
       "(-0.5, 399.5, 199.5, -0.5)"
      ]
     },
     "execution_count": 70,
     "metadata": {},
     "output_type": "execute_result"
    },
    {
     "data": {
      "image/png": "[encoded data removed]",
      "text/plain": [
       "<Figure size 720x360 with 1 Axes>"
      ]
     },
     "metadata": {
      "needs_background": "light"
     },
     "output_type": "display_data"
    }
   ],
   "source": [
    "# 별점 1점짜리 wordcloud\n",
    "wc = WordCloud().generate(str(bad))\n",
    "plt.figure(figsize=(10,5))\n",
    "plt.imshow(wc)\n",
    "plt.axis('off') #  x 축 y축의 숫자는 지우기"
   ]
  },
  {
   "cell_type": "markdown",
   "id": "0630c2bd",
   "metadata": {},
   "source": [
    "## 2.Naive Bayses 모델을 통해 리뷰의 별점 예측"
   ]
  },
  {
   "cell_type": "code",
   "execution_count": 71,
   "id": "407c029f",
   "metadata": {},
   "outputs": [],
   "source": [
    "import pandas as pd\n",
    "import numpy as np\n"
   ]
  },
  {
   "cell_type": "code",
   "execution_count": 72,
   "id": "36a67e5f",
   "metadata": {},
   "outputs": [],
   "source": [
    "data = pd.read_csv('./data/yelp.csv', index_col = 0 )"
   ]
  },
  {
   "cell_type": "code",
   "execution_count": 74,
   "id": "c1d42f5b",
   "metadata": {},
   "outputs": [
    {
     "data": {
      "text/html": [
       "<div>\n",
       "<style scoped>\n",
       "    .dataframe tbody tr th:only-of-type {\n",
       "        vertical-align: middle;\n",
       "    }\n",
       "\n",
       "    .dataframe tbody tr th {\n",
       "        vertical-align: top;\n",
       "    }\n",
       "\n",
       "    .dataframe thead th {\n",
       "        text-align: right;\n",
       "    }\n",
       "</style>\n",
       "<table border=\"1\" class=\"dataframe\">\n",
       "  <thead>\n",
       "    <tr style=\"text-align: right;\">\n",
       "      <th></th>\n",
       "      <th>review_id</th>\n",
       "      <th>user_id</th>\n",
       "      <th>business_id</th>\n",
       "      <th>stars</th>\n",
       "      <th>date</th>\n",
       "      <th>text</th>\n",
       "      <th>useful</th>\n",
       "      <th>funny</th>\n",
       "      <th>cool</th>\n",
       "    </tr>\n",
       "  </thead>\n",
       "  <tbody>\n",
       "    <tr>\n",
       "      <th>2967245</th>\n",
       "      <td>aMleVK0lQcOSNCs56_gSbg</td>\n",
       "      <td>miHaLnLanDKfZqZHet0uWw</td>\n",
       "      <td>Xp_cWXY5rxDLkX-wqUg-iQ</td>\n",
       "      <td>5</td>\n",
       "      <td>2015-09-30</td>\n",
       "      <td>LOVE the cheeses here.  They are worth the pri...</td>\n",
       "      <td>0</td>\n",
       "      <td>0</td>\n",
       "      <td>1</td>\n",
       "    </tr>\n",
       "    <tr>\n",
       "      <th>4773684</th>\n",
       "      <td>Hs1f--t9JnVKW9A1U2uhKA</td>\n",
       "      <td>r_RUQSGZcd5bSgmTcS5IfQ</td>\n",
       "      <td>NuGZD3yBVqzpY1HuzT26mQ</td>\n",
       "      <td>5</td>\n",
       "      <td>2015-06-04</td>\n",
       "      <td>This has become our go-to sushi place. The sus...</td>\n",
       "      <td>0</td>\n",
       "      <td>0</td>\n",
       "      <td>0</td>\n",
       "    </tr>\n",
       "    <tr>\n",
       "      <th>1139855</th>\n",
       "      <td>i7aiPgNrNaFoM8J_j2OSyQ</td>\n",
       "      <td>zz7lojg6QdZbKFCJiHsj7w</td>\n",
       "      <td>ii8sAGBexBOJoYRFafF9XQ</td>\n",
       "      <td>1</td>\n",
       "      <td>2016-07-03</td>\n",
       "      <td>I was very disappointed with the hotel. The re...</td>\n",
       "      <td>2</td>\n",
       "      <td>1</td>\n",
       "      <td>1</td>\n",
       "    </tr>\n",
       "    <tr>\n",
       "      <th>3997153</th>\n",
       "      <td>uft6iMwNQh4I2UDpmbXggA</td>\n",
       "      <td>p_oXN3L9oi8nmmJigf8c9Q</td>\n",
       "      <td>r0j4IpUbcdC1-HfoMYae4w</td>\n",
       "      <td>5</td>\n",
       "      <td>2016-10-15</td>\n",
       "      <td>Love this place - super amazing - staff here i...</td>\n",
       "      <td>0</td>\n",
       "      <td>0</td>\n",
       "      <td>0</td>\n",
       "    </tr>\n",
       "    <tr>\n",
       "      <th>4262000</th>\n",
       "      <td>y9QmJ16mrfBZS6Td6Yqo0g</td>\n",
       "      <td>jovtGPaHAqP6XfG9BFwY7A</td>\n",
       "      <td>j6UwIfXrSkGTdVkRu7K6WA</td>\n",
       "      <td>5</td>\n",
       "      <td>2017-03-14</td>\n",
       "      <td>Thank you Dana!!!! Having dyed my hair black p...</td>\n",
       "      <td>0</td>\n",
       "      <td>0</td>\n",
       "      <td>0</td>\n",
       "    </tr>\n",
       "  </tbody>\n",
       "</table>\n",
       "</div>"
      ],
      "text/plain": [
       "                      review_id                 user_id  \\\n",
       "2967245  aMleVK0lQcOSNCs56_gSbg  miHaLnLanDKfZqZHet0uWw   \n",
       "4773684  Hs1f--t9JnVKW9A1U2uhKA  r_RUQSGZcd5bSgmTcS5IfQ   \n",
       "1139855  i7aiPgNrNaFoM8J_j2OSyQ  zz7lojg6QdZbKFCJiHsj7w   \n",
       "3997153  uft6iMwNQh4I2UDpmbXggA  p_oXN3L9oi8nmmJigf8c9Q   \n",
       "4262000  y9QmJ16mrfBZS6Td6Yqo0g  jovtGPaHAqP6XfG9BFwY7A   \n",
       "\n",
       "                    business_id  stars        date  \\\n",
       "2967245  Xp_cWXY5rxDLkX-wqUg-iQ      5  2015-09-30   \n",
       "4773684  NuGZD3yBVqzpY1HuzT26mQ      5  2015-06-04   \n",
       "1139855  ii8sAGBexBOJoYRFafF9XQ      1  2016-07-03   \n",
       "3997153  r0j4IpUbcdC1-HfoMYae4w      5  2016-10-15   \n",
       "4262000  j6UwIfXrSkGTdVkRu7K6WA      5  2017-03-14   \n",
       "\n",
       "                                                      text  useful  funny  \\\n",
       "2967245  LOVE the cheeses here.  They are worth the pri...       0      0   \n",
       "4773684  This has become our go-to sushi place. The sus...       0      0   \n",
       "1139855  I was very disappointed with the hotel. The re...       2      1   \n",
       "3997153  Love this place - super amazing - staff here i...       0      0   \n",
       "4262000  Thank you Dana!!!! Having dyed my hair black p...       0      0   \n",
       "\n",
       "         cool  \n",
       "2967245     1  \n",
       "4773684     0  \n",
       "1139855     1  \n",
       "3997153     0  \n",
       "4262000     0  "
      ]
     },
     "execution_count": 74,
     "metadata": {},
     "output_type": "execute_result"
    }
   ],
   "source": [
    "data.head()"
   ]
  },
  {
   "cell_type": "code",
   "execution_count": 75,
   "id": "85854190",
   "metadata": {},
   "outputs": [],
   "source": [
    "X = data['text']\n",
    "y = data['stars']"
   ]
  },
  {
   "cell_type": "code",
   "execution_count": 76,
   "id": "adf2ea49",
   "metadata": {},
   "outputs": [],
   "source": [
    "from sklearn.feature_extraction.text import CountVectorizer"
   ]
  },
  {
   "cell_type": "code",
   "execution_count": 77,
   "id": "93356c76",
   "metadata": {},
   "outputs": [],
   "source": [
    "cv = CountVectorizer()"
   ]
  },
  {
   "cell_type": "code",
   "execution_count": 78,
   "id": "2ef4cf01",
   "metadata": {},
   "outputs": [
    {
     "data": {
      "text/plain": [
       "CountVectorizer()"
      ]
     },
     "execution_count": 78,
     "metadata": {},
     "output_type": "execute_result"
    }
   ],
   "source": [
    "cv.fit(X)"
   ]
  },
  {
   "cell_type": "code",
   "execution_count": 80,
   "id": "3d87d2e4",
   "metadata": {},
   "outputs": [],
   "source": [
    "X = cv.transform(X)"
   ]
  },
  {
   "cell_type": "code",
   "execution_count": 87,
   "id": "29d98a8a",
   "metadata": {},
   "outputs": [],
   "source": [
    "from sklearn.model_selection import train_test_split"
   ]
  },
  {
   "cell_type": "code",
   "execution_count": 88,
   "id": "28bfec25",
   "metadata": {},
   "outputs": [],
   "source": [
    "X_train, X_test, y_train, y_test = train_test_split(X,y,test_size = 0.2, random_state = 100)"
   ]
  },
  {
   "cell_type": "code",
   "execution_count": 92,
   "id": "729280c5",
   "metadata": {},
   "outputs": [],
   "source": [
    "from sklearn.naive_bayes import MultinomialNB"
   ]
  },
  {
   "cell_type": "code",
   "execution_count": 94,
   "id": "ff13edb1",
   "metadata": {},
   "outputs": [],
   "source": [
    "model = MultinomialNB()"
   ]
  },
  {
   "cell_type": "code",
   "execution_count": 95,
   "id": "06297f96",
   "metadata": {},
   "outputs": [
    {
     "data": {
      "text/plain": [
       "MultinomialNB()"
      ]
     },
     "execution_count": 95,
     "metadata": {},
     "output_type": "execute_result"
    }
   ],
   "source": [
    "model.fit(X_train, y_train)"
   ]
  },
  {
   "cell_type": "code",
   "execution_count": 96,
   "id": "e4af813d",
   "metadata": {},
   "outputs": [],
   "source": [
    "pred = model.predict(X_test)"
   ]
  },
  {
   "cell_type": "code",
   "execution_count": 97,
   "id": "6471ec99",
   "metadata": {},
   "outputs": [
    {
     "data": {
      "text/plain": [
       "array([5, 5, 5, ..., 1, 5, 1])"
      ]
     },
     "execution_count": 97,
     "metadata": {},
     "output_type": "execute_result"
    }
   ],
   "source": [
    "pred"
   ]
  },
  {
   "cell_type": "code",
   "execution_count": 98,
   "id": "e5b626dd",
   "metadata": {},
   "outputs": [
    {
     "data": {
      "text/plain": [
       "1373705    5\n",
       "3128713    5\n",
       "212088     1\n",
       "1622136    5\n",
       "2380124    5\n",
       "          ..\n",
       "3548316    5\n",
       "38943      5\n",
       "2423674    1\n",
       "1564863    5\n",
       "3629333    1\n",
       "Name: stars, Length: 2000, dtype: int64"
      ]
     },
     "execution_count": 98,
     "metadata": {},
     "output_type": "execute_result"
    }
   ],
   "source": [
    "y_test"
   ]
  },
  {
   "cell_type": "code",
   "execution_count": 100,
   "id": "60d94fc2",
   "metadata": {},
   "outputs": [],
   "source": [
    "from sklearn.metrics import accuracy_score, confusion_matrix, classification_report"
   ]
  },
  {
   "cell_type": "code",
   "execution_count": 101,
   "id": "09d13997",
   "metadata": {},
   "outputs": [
    {
     "data": {
      "text/plain": [
       "0.9265"
      ]
     },
     "execution_count": 101,
     "metadata": {},
     "output_type": "execute_result"
    }
   ],
   "source": [
    "accuracy_score(y_test, pred)"
   ]
  },
  {
   "cell_type": "code",
   "execution_count": 102,
   "id": "2d6f5fb3",
   "metadata": {},
   "outputs": [
    {
     "data": {
      "text/plain": [
       "array([[ 421,   65],\n",
       "       [  82, 1432]])"
      ]
     },
     "execution_count": 102,
     "metadata": {},
     "output_type": "execute_result"
    }
   ],
   "source": [
    "confusion_matrix(y_test, pred)"
   ]
  },
  {
   "cell_type": "code",
   "execution_count": 104,
   "id": "35291902",
   "metadata": {},
   "outputs": [
    {
     "name": "stdout",
     "output_type": "stream",
     "text": [
      "              precision    recall  f1-score   support\n",
      "\n",
      "           1       0.84      0.87      0.85       486\n",
      "           5       0.96      0.95      0.95      1514\n",
      "\n",
      "    accuracy                           0.93      2000\n",
      "   macro avg       0.90      0.91      0.90      2000\n",
      "weighted avg       0.93      0.93      0.93      2000\n",
      "\n"
     ]
    }
   ],
   "source": [
    "print(classification_report(y_test, pred))"
   ]
  },
  {
   "cell_type": "markdown",
   "id": "79272d12",
   "metadata": {},
   "source": [
    "랜덤포레스트와 비교하기"
   ]
  },
  {
   "cell_type": "code",
   "execution_count": 105,
   "id": "4cafd0ee",
   "metadata": {},
   "outputs": [],
   "source": [
    "from sklearn.ensemble import RandomForestClassifier"
   ]
  },
  {
   "cell_type": "code",
   "execution_count": 114,
   "id": "1361390d",
   "metadata": {},
   "outputs": [],
   "source": [
    "rf = RandomForestClassifier(max_depth = 10, n_estimators = 1000)"
   ]
  },
  {
   "cell_type": "code",
   "execution_count": 115,
   "id": "00959dfe",
   "metadata": {},
   "outputs": [
    {
     "data": {
      "text/plain": [
       "RandomForestClassifier(max_depth=10, n_estimators=1000)"
      ]
     },
     "execution_count": 115,
     "metadata": {},
     "output_type": "execute_result"
    }
   ],
   "source": [
    "rf.fit(X_train, y_train)"
   ]
  },
  {
   "cell_type": "code",
   "execution_count": 116,
   "id": "177f6606",
   "metadata": {},
   "outputs": [],
   "source": [
    "pred2 = rf.predict(X_test)"
   ]
  },
  {
   "cell_type": "code",
   "execution_count": 119,
   "id": "2984d767",
   "metadata": {},
   "outputs": [
    {
     "data": {
      "text/plain": [
       "0.787"
      ]
     },
     "execution_count": 119,
     "metadata": {},
     "output_type": "execute_result"
    }
   ],
   "source": [
    "accuracy_score(y_test, pred2)"
   ]
  },
  {
   "cell_type": "code",
   "execution_count": 120,
   "id": "72ab4940",
   "metadata": {},
   "outputs": [
    {
     "data": {
      "text/plain": [
       "array([[  62,  424],\n",
       "       [   2, 1512]])"
      ]
     },
     "execution_count": 120,
     "metadata": {},
     "output_type": "execute_result"
    }
   ],
   "source": [
    "confusion_matrix(y_test, pred2)"
   ]
  },
  {
   "cell_type": "code",
   "execution_count": 121,
   "id": "146525d9",
   "metadata": {},
   "outputs": [
    {
     "name": "stdout",
     "output_type": "stream",
     "text": [
      "              precision    recall  f1-score   support\n",
      "\n",
      "           1       0.97      0.13      0.23       486\n",
      "           5       0.78      1.00      0.88      1514\n",
      "\n",
      "    accuracy                           0.79      2000\n",
      "   macro avg       0.87      0.56      0.55      2000\n",
      "weighted avg       0.83      0.79      0.72      2000\n",
      "\n"
     ]
    }
   ],
   "source": [
    "print(classification_report(y_test, pred2))"
   ]
  },
  {
   "cell_type": "markdown",
   "id": "7bdae31a",
   "metadata": {},
   "source": [
    " NLP 텍스트 관련해서는 랜덤포레스트보다, Naive Bayses 모델이 더 좋은 성능과 시간적 효율이 좋다는 것을 알 수 있었다."
   ]
  },
  {
   "cell_type": "markdown",
   "id": "83be1117",
   "metadata": {},
   "source": [
    "- 출처:파이썬을 활용한 이커머스 데이터 분석"
   ]
  }
 ],
 "metadata": {
  "kernelspec": {
   "display_name": "Python 3",
   "language": "python",
   "name": "python3"
  },
  "language_info": {
   "codemirror_mode": {
    "name": "ipython",
    "version": 3
   },
   "file_extension": ".py",
   "mimetype": "text/x-python",
   "name": "python",
   "nbconvert_exporter": "python",
   "pygments_lexer": "ipython3",
   "version": "3.6.9"
  }
 },
 "nbformat": 4,
 "nbformat_minor": 5
}
